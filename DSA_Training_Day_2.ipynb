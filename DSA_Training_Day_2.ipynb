{
  "nbformat": 4,
  "nbformat_minor": 0,
  "metadata": {
    "colab": {
      "provenance": [],
      "authorship_tag": "ABX9TyOe/AgcyAFTt0xG/GIyJdFh",
      "include_colab_link": true
    },
    "kernelspec": {
      "name": "python3",
      "display_name": "Python 3"
    },
    "language_info": {
      "name": "python"
    }
  },
  "cells": [
    {
      "cell_type": "markdown",
      "metadata": {
        "id": "view-in-github",
        "colab_type": "text"
      },
      "source": [
        "<a href=\"https://colab.research.google.com/github/ishant2612/DSA_Training/blob/main/DSA_Training_Day_2.ipynb\" target=\"_parent\"><img src=\"https://colab.research.google.com/assets/colab-badge.svg\" alt=\"Open In Colab\"/></a>"
      ]
    },
    {
      "cell_type": "code",
      "execution_count": null,
      "metadata": {
        "colab": {
          "base_uri": "https://localhost:8080/"
        },
        "id": "Iz-_7hc2r67a",
        "outputId": "a975ee1e-f77d-4aa1-c497-1f88aaf09edf"
      },
      "outputs": [
        {
          "output_type": "stream",
          "name": "stdout",
          "text": [
            "2 4\n",
            "20\n"
          ]
        }
      ],
      "source": [
        "\n",
        "k,n = map(int,input().split())\n",
        "print(1<<k|1<<n)"
      ]
    },
    {
      "cell_type": "code",
      "source": [
        "#Count the number of bits to change to convert A number to B\n",
        "n,p = map(int,input().split())\n",
        "count = 0\n",
        "shift = 1\n",
        "for i in range(min(n,p)):\n",
        "  if (n >> shift) % 2 != (p >> shift) % 2:\n",
        "    count += 1\n",
        "  shift += 1\n",
        "print(count)"
      ],
      "metadata": {
        "id": "s_khLGNWsvVL"
      },
      "execution_count": null,
      "outputs": []
    },
    {
      "cell_type": "code",
      "source": [
        "#find the sum of elemenets in a list only if the all prev elements are smaller that it\n",
        "\n",
        "def suml(a):\n",
        "  res = [a[0]]\n",
        "  for i in range(len(a)):\n",
        "    if res and res[-1] < a[i]:\n",
        "      res.append(a[i])\n",
        "\n",
        "  return res\n",
        "a = list(map(int,input().split()))\n",
        "resl = suml(a)\n",
        "res = 0\n",
        "for i in resl:\n",
        "  res += i\n",
        "print(res)"
      ],
      "metadata": {
        "id": "izqa2inry21h",
        "colab": {
          "base_uri": "https://localhost:8080/"
        },
        "outputId": "857602a0-366b-40b2-f4a1-0cb4aa3d5f42"
      },
      "execution_count": 20,
      "outputs": [
        {
          "output_type": "stream",
          "name": "stdout",
          "text": [
            "100 10 20 30 \n",
            "100\n"
          ]
        }
      ]
    },
    {
      "cell_type": "code",
      "source": [],
      "metadata": {
        "id": "r71DvldsxA4y"
      },
      "execution_count": null,
      "outputs": []
    }
  ]
}