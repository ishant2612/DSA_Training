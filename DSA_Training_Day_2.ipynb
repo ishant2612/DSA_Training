{
  "nbformat": 4,
  "nbformat_minor": 0,
  "metadata": {
    "colab": {
      "provenance": [],
      "authorship_tag": "ABX9TyOvsrjxbQNodcPuj5i0zqCC",
      "include_colab_link": true
    },
    "kernelspec": {
      "name": "python3",
      "display_name": "Python 3"
    },
    "language_info": {
      "name": "python"
    }
  },
  "cells": [
    {
      "cell_type": "markdown",
      "metadata": {
        "id": "view-in-github",
        "colab_type": "text"
      },
      "source": [
        "<a href=\"https://colab.research.google.com/github/ishant2612/DSA_Training/blob/main/DSA_Training_Day_2.ipynb\" target=\"_parent\"><img src=\"https://colab.research.google.com/assets/colab-badge.svg\" alt=\"Open In Colab\"/></a>"
      ]
    },
    {
      "cell_type": "code",
      "execution_count": 4,
      "metadata": {
        "colab": {
          "base_uri": "https://localhost:8080/"
        },
        "id": "Iz-_7hc2r67a",
        "outputId": "4fdf7a69-0c22-4804-8db7-6688f0e67003"
      },
      "outputs": [
        {
          "output_type": "stream",
          "name": "stdout",
          "text": [
            "2 4\n",
            "20\n"
          ]
        }
      ],
      "source": [
        "#2^k+2^n using bitwise operator\n",
        "k,n = map(int,input().split())\n",
        "print(1<<k|1<<n)"
      ]
    },
    {
      "cell_type": "code",
      "source": [
        "#Count the number of bits to change to convert A number to B\n",
        "n,p = map(int,input().split())\n",
        "count = 0\n",
        "shift = 1\n",
        "for i in range(min(n,p)):\n",
        "  if (n >> shift) % 2 != (p >> shift) % 2:\n",
        "    count += 1\n",
        "  shift += 1\n",
        "print(count)"
      ],
      "metadata": {
        "colab": {
          "base_uri": "https://localhost:8080/"
        },
        "id": "s_khLGNWsvVL",
        "outputId": "12678423-ab9f-4f7a-f939-1a0850436aba"
      },
      "execution_count": 19,
      "outputs": [
        {
          "output_type": "stream",
          "name": "stdout",
          "text": [
            "10 1000000\n",
            "4\n"
          ]
        }
      ]
    },
    {
      "cell_type": "code",
      "source": [],
      "metadata": {
        "id": "izqa2inry21h"
      },
      "execution_count": 9,
      "outputs": []
    }
  ]
}