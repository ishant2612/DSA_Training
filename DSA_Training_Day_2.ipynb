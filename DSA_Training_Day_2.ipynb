{
  "nbformat": 4,
  "nbformat_minor": 0,
  "metadata": {
    "colab": {
      "provenance": [],
      "authorship_tag": "ABX9TyPOUo5bKb+1IO9iOrGblykr",
      "include_colab_link": true
    },
    "kernelspec": {
      "name": "python3",
      "display_name": "Python 3"
    },
    "language_info": {
      "name": "python"
    }
  },
  "cells": [
    {
      "cell_type": "markdown",
      "metadata": {
        "id": "view-in-github",
        "colab_type": "text"
      },
      "source": [
        "<a href=\"https://colab.research.google.com/github/ishant2612/DSA_Training/blob/main/DSA_Training_Day_2.ipynb\" target=\"_parent\"><img src=\"https://colab.research.google.com/assets/colab-badge.svg\" alt=\"Open In Colab\"/></a>"
      ]
    },
    {
      "cell_type": "code",
      "execution_count": null,
      "metadata": {
        "colab": {
          "base_uri": "https://localhost:8080/"
        },
        "id": "Iz-_7hc2r67a",
        "outputId": "a975ee1e-f77d-4aa1-c497-1f88aaf09edf"
      },
      "outputs": [
        {
          "output_type": "stream",
          "name": "stdout",
          "text": [
            "2 4\n",
            "20\n"
          ]
        }
      ],
      "source": [
        "\n",
        "k,n = map(int,input().split())\n",
        "print(1<<k|1<<n)"
      ]
    },
    {
      "cell_type": "code",
      "source": [
        "#Count the number of bits to change to convert A number to B\n",
        "n,p = map(int,input().split())\n",
        "count = 0\n",
        "shift = 1\n",
        "for i in range(min(n,p)):\n",
        "  if (n >> shift) % 2 != (p >> shift) % 2:\n",
        "    count += 1\n",
        "  shift += 1\n",
        "print(count)"
      ],
      "metadata": {
        "colab": {
          "base_uri": "https://localhost:8080/"
        },
        "id": "s_khLGNWsvVL",
        "outputId": "0d90641f-8ac0-46a5-b9b2-78db13cd7f7f"
      },
      "execution_count": 21,
      "outputs": [
        {
          "output_type": "stream",
          "name": "stdout",
          "text": [
            "3 45\n",
            "3\n"
          ]
        }
      ]
    },
    {
      "cell_type": "code",
      "source": [
        "#find the sum of elemenets in a list only if the all prev elements are smaller that it\n",
        "\n",
        "def suml(a):\n",
        "  res = [a[0]]\n",
        "  for i in range(len(a)):\n",
        "    if res and res[-1] < a[i]:\n",
        "      res.append(a[i])\n",
        "\n",
        "  return res\n",
        "a = list(map(int,input().split()))\n",
        "resl = suml(a)\n",
        "res = 0\n",
        "for i in resl:\n",
        "  res += i\n",
        "print(res)"
      ],
      "metadata": {
        "id": "izqa2inry21h",
        "colab": {
          "base_uri": "https://localhost:8080/"
        },
        "outputId": "857602a0-366b-40b2-f4a1-0cb4aa3d5f42"
      },
      "execution_count": 20,
      "outputs": [
        {
          "output_type": "stream",
          "name": "stdout",
          "text": [
            "100 10 20 30 \n",
            "100\n"
          ]
        }
      ]
    },
    {
      "cell_type": "code",
      "source": [
        "#make a 2d array\n",
        "a = int(input(\"Enter the number of row: \"))\n",
        "b = int(input(\"Enter the number of column: \"))\n",
        "arr = []\n",
        "for i in range(a):\n",
        "  arr.append(list(map(int,input().split())))\n",
        "\n",
        "for i in arr:\n",
        "  print(i)"
      ],
      "metadata": {
        "id": "r71DvldsxA4y",
        "colab": {
          "base_uri": "https://localhost:8080/"
        },
        "outputId": "c4cbfbda-2641-48aa-c267-357c801f7f5b"
      },
      "execution_count": 29,
      "outputs": [
        {
          "output_type": "stream",
          "name": "stdout",
          "text": [
            "Enter the number of row: 2\n",
            "Enter the number of column: 2\n",
            "1 2\n",
            "3 4\n",
            "[1, 2]\n",
            "[3, 4]\n"
          ]
        }
      ]
    },
    {
      "cell_type": "code",
      "source": [
        "#program to find the sum of primary and secondary diagonal of a matrix\n",
        "\n",
        "def diagonal_sum(matrix):\n",
        "\n",
        "\n",
        "  primary_diagonal_sum = 0\n",
        "  secondary_diagonal_sum = 0\n",
        "  n = len(matrix)\n",
        "  for i in range(n):\n",
        "    primary_diagonal_sum += matrix[i][i]\n",
        "    secondary_diagonal_sum += matrix[i][n - i - 1]\n",
        "  if n % 2 == 0:\n",
        "    return primary_diagonal_sum + secondary_diagonal_sum\n",
        "  return primary_diagonal_sum + secondary_diagonal_sum - matrix[n // 2][n // 2]\n",
        "\n",
        "\n",
        "dimensions = int(input())\n",
        "arr = []\n",
        "for i in range(dimensions):\n",
        "  arr.append(list(map(int,input().split())))\n",
        "diagonal_sum = diagonal_sum(arr)\n",
        "print(f\"The sum of the primary and secondary diagonals is: {diagonal_sum}\")\n"
      ],
      "metadata": {
        "colab": {
          "base_uri": "https://localhost:8080/"
        },
        "id": "rPDNEJ9n4GHt",
        "outputId": "b2882093-a328-4653-8c44-af813518976f"
      },
      "execution_count": 39,
      "outputs": [
        {
          "output_type": "stream",
          "name": "stdout",
          "text": [
            "4\n",
            "1 1 1 1\n",
            "1 1 1 1 \n",
            "1 1 1 1\n",
            "1 1 1 1\n",
            "The sum of the primary and secondary diagonals is: 8\n"
          ]
        }
      ]
    },
    {
      "cell_type": "code",
      "source": [],
      "metadata": {
        "id": "z7u_1NP76edQ"
      },
      "execution_count": 30,
      "outputs": []
    }
  ]
}