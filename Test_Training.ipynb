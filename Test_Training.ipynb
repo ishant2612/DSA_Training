{
  "nbformat": 4,
  "nbformat_minor": 0,
  "metadata": {
    "colab": {
      "provenance": [],
      "authorship_tag": "ABX9TyNz7+nIpIVzRIptlqyCU6Z5",
      "include_colab_link": true
    },
    "kernelspec": {
      "name": "python3",
      "display_name": "Python 3"
    },
    "language_info": {
      "name": "python"
    }
  },
  "cells": [
    {
      "cell_type": "markdown",
      "metadata": {
        "id": "view-in-github",
        "colab_type": "text"
      },
      "source": [
        "<a href=\"https://colab.research.google.com/github/ishant2612/DSA_Training/blob/main/Test_Training.ipynb\" target=\"_parent\"><img src=\"https://colab.research.google.com/assets/colab-badge.svg\" alt=\"Open In Colab\"/></a>"
      ]
    },
    {
      "cell_type": "code",
      "execution_count": null,
      "metadata": {
        "id": "oDDHeYxYCVuN",
        "colab": {
          "base_uri": "https://localhost:8080/"
        },
        "outputId": "ff9781c5-8db3-45cc-91c8-dd47be4e254d"
      },
      "outputs": [
        {
          "output_type": "stream",
          "name": "stdout",
          "text": [
            "1\n",
            "6\n",
            "2 3 4\n",
            "[1, 0, 1, 1, 1, 0]\n"
          ]
        }
      ],
      "source": [
        "for _ in range(int(input())):\n",
        "    notVisited = 0\n",
        "    leaves = int(input())\n",
        "    strength = list(map(int,input().split()))\n",
        "    visited = [0] * leaves\n",
        "    if 1 in strength:\n",
        "        print(notVisited)\n",
        "        break\n",
        "    else:\n",
        "        for i in strength:\n",
        "          visited[::i] = [1] * len(visited[::i])\n",
        "    print(visited.count(0))"
      ]
    },
    {
      "cell_type": "code",
      "source": [
        "a = [0,0,0,0,0,0]\n",
        "a[::2] = [1,3,5]\n",
        "print(a)"
      ],
      "metadata": {
        "colab": {
          "base_uri": "https://localhost:8080/"
        },
        "id": "JKqFKXQaTzgD",
        "outputId": "56f281eb-70be-4277-b14d-ea43847689c6"
      },
      "execution_count": null,
      "outputs": [
        {
          "output_type": "stream",
          "name": "stdout",
          "text": [
            "[1, 0, 3, 0, 5, 0]\n"
          ]
        }
      ]
    },
    {
      "cell_type": "code",
      "source": [
        "for _ in range(int(input())):\n",
        "  a = int(input())\n",
        "  discount = (100 - (a))\n",
        "  print(int(discount))"
      ],
      "metadata": {
        "id": "32qmtcicUPNY",
        "colab": {
          "base_uri": "https://localhost:8080/"
        },
        "outputId": "5abca05c-9504-423b-8f72-490c445a5a79"
      },
      "execution_count": null,
      "outputs": [
        {
          "output_type": "stream",
          "name": "stdout",
          "text": [
            "4\n",
            "5\n",
            "95.0\n",
            "5\n",
            "95.0\n",
            "9\n",
            "91.0\n",
            "11\n",
            "89.0\n"
          ]
        }
      ]
    },
    {
      "cell_type": "code",
      "source": [
        "for _ in range(int(input())):\n",
        "  a,b,c,d = map(int,input().split())\n",
        "  if (a-c) < (b-d):\n",
        "    print(\"First\")\n",
        "  elif (b-d) < (a-c):\n",
        "    print(\"Second\")\n",
        "  else:\n",
        "    print(\"Any\")"
      ],
      "metadata": {
        "colab": {
          "base_uri": "https://localhost:8080/"
        },
        "id": "nBgGiM2zPX6_",
        "outputId": "f3f346e3-c184-4cc1-e9cd-2fc5c93ec69d"
      },
      "execution_count": null,
      "outputs": [
        {
          "output_type": "stream",
          "name": "stdout",
          "text": [
            "3\n",
            "85 75 35 20\n",
            "First\n",
            "100 99 0 0\n",
            "Second\n",
            "30 40 0 10\n",
            "Any\n"
          ]
        }
      ]
    },
    {
      "cell_type": "code",
      "source": [
        "for _ in range(int(input())):\n",
        "  a = int(input())\n",
        "  if a <= 15:\n",
        "    print(\"Yes\")\n",
        "  else:\n",
        "    print(\"No\")"
      ],
      "metadata": {
        "id": "etyPcoOPQVbR"
      },
      "execution_count": null,
      "outputs": []
    },
    {
      "cell_type": "code",
      "source": [
        "for _ in range(int(input())):\n",
        "  a,b = map(int,input().split())\n",
        "  remaining = a-b\n",
        "  if remaining <= 0:\n",
        "    print(0)\n",
        "  else:\n",
        "    if (remaining%4) == 0:\n",
        "      print(remaining//4)\n",
        "    else:\n",
        "      print((remaining//4)+1)\n"
      ],
      "metadata": {
        "colab": {
          "base_uri": "https://localhost:8080/"
        },
        "id": "lvjhS2UyQ3NI",
        "outputId": "df830d06-075d-44c5-bbb4-c894364448ab"
      },
      "execution_count": null,
      "outputs": [
        {
          "output_type": "stream",
          "name": "stdout",
          "text": [
            "4\n",
            "20 12\n",
            "2\n",
            "10 100\n",
            "0\n",
            "10 9\n",
            "1\n",
            "20 9\n",
            "3\n"
          ]
        }
      ]
    },
    {
      "cell_type": "code",
      "source": [
        "for _ in range(int(input())):\n",
        "  n,x = map(int,input().split())\n",
        "  totalSlice = n*x\n",
        "  if totalSlice%4 == 0:\n",
        "    print(totalSlice//4)\n",
        "  else:\n",
        "    print((totalSlice//4)+1)"
      ],
      "metadata": {
        "colab": {
          "base_uri": "https://localhost:8080/"
        },
        "id": "jbumlvO3SAqj",
        "outputId": "e2193969-ec63-49ac-9314-585da970efad"
      },
      "execution_count": null,
      "outputs": [
        {
          "output_type": "stream",
          "name": "stdout",
          "text": [
            "4\n",
            "1 4\n",
            "1\n",
            "2 6\n",
            "3\n",
            "4 3\n",
            "3\n",
            "3 5\n",
            "4\n"
          ]
        }
      ]
    },
    {
      "cell_type": "code",
      "source": [
        "for _ in range(int(input())):\n",
        "  a = int(input())\n",
        "  totalProfit = a*50\n",
        "  print(int(0.3* totalProfit))"
      ],
      "metadata": {
        "colab": {
          "base_uri": "https://localhost:8080/"
        },
        "id": "nYR5XCaZUTzL",
        "outputId": "1b3ab82b-6006-46db-bc18-d45aeeea395b"
      },
      "execution_count": null,
      "outputs": [
        {
          "output_type": "stream",
          "name": "stdout",
          "text": [
            "4\n",
            "2\n",
            "30\n",
            "4\n",
            "60\n",
            "5\n",
            "75\n",
            "10\n",
            "150\n"
          ]
        }
      ]
    },
    {
      "cell_type": "code",
      "source": [
        "a,b = map(int,input().split())\n",
        "if a > b:\n",
        "  print(a-b)\n",
        "else:\n",
        "  print(a+b)"
      ],
      "metadata": {
        "colab": {
          "base_uri": "https://localhost:8080/"
        },
        "id": "wxwPnbWWVyNB",
        "outputId": "95c0a181-ede4-4dea-f641-c36d9b05ef48"
      },
      "execution_count": null,
      "outputs": [
        {
          "output_type": "stream",
          "name": "stdout",
          "text": [
            "10 100\n",
            "90\n"
          ]
        }
      ]
    },
    {
      "cell_type": "code",
      "source": [
        "for _ in range(int(input())):\n",
        "  a = list(map(int,input().split()))\n",
        "  a.sort()\n",
        "  print(a[-2])"
      ],
      "metadata": {
        "colab": {
          "base_uri": "https://localhost:8080/"
        },
        "id": "U76iZKu1WPR8",
        "outputId": "8f83caec-3b2d-4a15-f73c-f629fc78ca69"
      },
      "execution_count": null,
      "outputs": [
        {
          "output_type": "stream",
          "name": "stdout",
          "text": [
            "3\n",
            "120 11 400\n",
            "120\n",
            "10213 10 312\n",
            "312\n",
            "10 3 450\n",
            "10\n"
          ]
        }
      ]
    },
    {
      "cell_type": "code",
      "source": [
        "#find the smallest missing element using binary search\n",
        "def binaryMissing(arr):\n",
        "  low = 0\n",
        "  high = len(arr)-1\n",
        "  if 0 not in arr:\n",
        "    return 0\n",
        "\n",
        "  while low <= high:\n",
        "    mid = (low+high)//2\n",
        "    if arr[mid] == mid+1:\n",
        "      high = mid - 1\n",
        "    else:\n",
        "      low = mid + 1\n",
        "  return low\n",
        "\n",
        "arr = list(map(int,input().split()))\n",
        "print(binaryMissing(arr))"
      ],
      "metadata": {
        "colab": {
          "base_uri": "https://localhost:8080/"
        },
        "id": "BCIP_fdYXlrq",
        "outputId": "d65ee58b-e414-4220-c821-6e7deae8823e"
      },
      "execution_count": null,
      "outputs": [
        {
          "output_type": "stream",
          "name": "stdout",
          "text": [
            "0 1 2 3 4 5 6\n",
            "7\n"
          ]
        }
      ]
    },
    {
      "cell_type": "code",
      "source": [
        "a = \"abababbababa\"\n",
        "for 'ab' in a:\n",
        "  print(\"yes\")"
      ],
      "metadata": {
        "colab": {
          "base_uri": "https://localhost:8080/",
          "height": 106
        },
        "id": "rXldtUZSZA6T",
        "outputId": "b9de4f05-7dec-4c5d-e22b-cdf92d14fca7"
      },
      "execution_count": null,
      "outputs": [
        {
          "output_type": "error",
          "ename": "SyntaxError",
          "evalue": "cannot assign to literal (<ipython-input-19-48f0327bfbb6>, line 2)",
          "traceback": [
            "\u001b[0;36m  File \u001b[0;32m\"<ipython-input-19-48f0327bfbb6>\"\u001b[0;36m, line \u001b[0;32m2\u001b[0m\n\u001b[0;31m    for 'ab' in a:\u001b[0m\n\u001b[0m        ^\u001b[0m\n\u001b[0;31mSyntaxError\u001b[0m\u001b[0;31m:\u001b[0m cannot assign to literal\n"
          ]
        }
      ]
    },
    {
      "cell_type": "code",
      "source": [
        "#bubble sort\n",
        "\n",
        "def bubbleSort(arr):\n",
        "  for j in range(len(arr)):\n",
        "    for i in range(0,len(arr)-j-1):\n",
        "      if arr[i] > arr[i+1]:\n",
        "        temp = arr[i]\n",
        "        arr[i] = arr[i+1]\n",
        "        arr[i+1] = temp\n",
        "\n",
        "  return arr\n",
        "\n",
        "a = list(map(int,input().split()))\n",
        "print(bubbleSort(a))"
      ],
      "metadata": {
        "colab": {
          "base_uri": "https://localhost:8080/"
        },
        "id": "RH7b3Tq5idWq",
        "outputId": "2db56490-b30d-4dd9-d66f-1631a2a8e436"
      },
      "execution_count": null,
      "outputs": [
        {
          "output_type": "stream",
          "name": "stdout",
          "text": [
            "5 4 3 2 6 8 3 6 8\n",
            "[2, 3, 3, 4, 5, 6, 6, 8, 8]\n"
          ]
        }
      ]
    },
    {
      "cell_type": "code",
      "source": [
        "from collections import Counter\n",
        "arr = list(map(int,(\"3696 3739 3714 3719 3687 3732 3657 3664 3717 3702 3741 3683 3660 3648 3649 3721 3652 3683 3694 3647 3696 3673 3741 3732 3677 3738 3666 3741 3701 3723 3721 3648 3654 3706 3743 3733 3704 3668 3660 3741 3730 3710 3729 3739 3662 3647 3701 3713 3674 3663 3690 3696 3719 3690 3728 3653 3734 3718 3722 3721 3725 3723 3703 3665 3668 3669 3654 3692 3699 3691 3682 3646 3649 3712 3688 3646 3662 3724 3705 3714 3692 3680 3690 3741 3693 3729 3664 3692 3660 3652 3718 3723 3684 3650 3685 3725 3679 3734 3710 3735 3685 3711 3672 3715 3739 3687 3660 3735 3674 3672 3674 3705 3666 3714 3710 3740 3656 3667 3655 3707 3710 3730 3695 3661 3713 3708 3688 3646 3653 3652 3701 3689 3657 3654 3647 3648 3656 3696 3730 3721 3712 3735 3651 3657 3716 3742 3704 3742 3705 3673 3680 3720 3727 3658 3738 3684 3653 3669 3656 3711 3734 3741 3743 3742 3655 3709 3743 3709 3697 3648 3667 3726 3717 3673 3700 3655 3651 3654 3728 3724 3651 3704 3687 3659 3656 3721 3663 3727 3725 3723 3660 3666 3664 3683 3678 3665 3681 3737 3714 3723 3660 3662 3724 3672 3657 3690 3718 3726 3714 3742 3689 3725 3706 3719 3674 3736 3712 3681 3701 3715 3738 3719 3714 3664 3659 3692 3651 3647 3722 3691 3647 3675 3700 3646 3706 3687 3685 3722 3740 3730 3732 3703 3730 3667 3667 3718 3720 3695 3711 3679 3656 3680 3677 3744 3740 3668 3710 3690 3724 3695 3692 3647 3717 3717 3682 3741 3681 3717 3691 3700 3659 3673 3705 3673 3672 3691 3686 3737 3701 3702 3742 3689 3658 3680 3676 3679 3716 3696 3673 3669 3711 3726 3691 3703 3650 3669 3742 3697 3737 3665 3710 3723 3668 3690 3700 3725 3736 3723 3718 3701 3679 3714 3651 3736 3664 3705 3656 3722 3694 3665 3660 3656 3676 3664 3715 3654 3675 3666 3688 3660 3667 3726 3718 3736 3735 3684 3667 3703 3701 3664 3682 3678 3718 3687 3699 3726 3650 3730 3648 3695 3690 3730 3713 3711 3732 3692 3736 3654 3698 3735 3652 3711 3742 3712 3664 3671 3682 3645 3691 3716 3719 3738 3681 3720 3651 3680 3657 3733 3702 3673 3682 3651 3688 3646 3665 3743 3704 3669 3721 3742 3667 3730 3715 3653 3721 3704 3737 3729 3700 3648 3668 3696 3742 3700 3666 3735 3720 3657 3722 3684 3655 3692 3670 3671 3673 3744 3647 3701 3671 3713 3709 3674 3688 3715 3656 3686 3649 3737 3712 3696 3646 3677 3654 3669 3659 3723 3702 3687 3726 3737 3713 3646 3723 3704 3693 3710 3726 3649 3669 3645 3667 3683 3684 3662 3705 3669 3676 3715 3666 3677 3648 3738 3696 3678 3682 3655 3678 3678 3682 3676 3724 3720 3694 3740 3707 3737 3654 3698 3731 3683 3706 3687 3712 3735 3694 3708 3680 3675 3668 3660 3652 3656 3657 3649 3688 3681 3739 3716 3667 3680 3668 3670 3738 3716 3652 3711 3720 3744 3671 3677 3705 3668 3666 3744 3687 3692 3697 3687 3673 3722 3694 3709 3649 3725 3666 3681 3689 3721 3706 3721 3723 3722 3650 3696 3701 3725 3716 3648 3703 3709 3739 3687 3697 3647 3718 3660 3739 3657 3701 3651 3683 3731 3678 3645 3731 3654 3743 3702 3677 3645 3677 3698 3722 3722 3711 3724 3738 3663 3649 3697 3723 3655 3662 3715 3677 3729 3723 3689 3673 3678 3661 3737 3682 3675 3728 3652 3721 3650 3653 3744 3686 3738 3712 3685 3738 3660 3723 3660 3730 3723 3664 3698 3683 3685 3716 3741 3648 3731 3692 3659 3658 3669 3702 3724 3652 3675 3649 3657 3701 3678 3647 3719 3646 3655 3646 3708 3663 3725 3655 3660 3729 3702 3661 3712 3695 3668 3678 3648 3650 3733 3709 3666 3688 3687 3742 3682 3662 3704 3735 3697 3740 3727 3703 3692 3683 3700 3705 3649 3660 3738 3742 3679 3707 3721 3698 3675 3690 3676 3694 3744 3669 3658 3680 3654 3668 3706 3722 3667 3657 3744 3727 3710 3681 3672 3646 3692 3690 3723 3647 3732 3722 3689 3697 3683 3717 3686 3679 3646 3683 3708 3727 3673 3706 3647 3714 3652 3679 3687 3707 3660 3650 3723 3692 3717 3688 3660 3725 3699 3668 3733 3672 3737 3697 3704 3715 3665 3681 3677 3731 3734 3650 3708 3717 3716 3680 3735 3730 3698 3718 3694 3720 3648 3724 3690 3680 3670 3734 3698 3708 3656 3689 3726 3676 3683 3671 3671 3733 3709 3667 3680 3711 3687 3707 3720 3706 3728 3680 3683 3736 3659 3734 3721 3707 3720 3680 3662 3647 3656 3720 3658 3724 3717 3660 3704 3671 3662 3730 3734 3721 3712 3731 3737 3687 3740 3721 3674 3742 3645 3683 3717 3713 3653 3698 3718 3701 3645 3742 3681 3719 3720 3682 3652 3733 3707 3685 3675 3683 3701 3656 3645 3725 3655 3737 3681 3671 3711 3683 3715 3700 3732 3693 3705 3677 3701 3716 3683 3655 3676 3739 3650 3693 3666 3715 3726 3675 3683 3705 3672 3650 3654 3727 3647 3727 3668 3664 3734 3703 3650 3648 3700 3672 3673 3734 3666 3656 3693 3693 3684 3713 3704 3696 3658 3662 3726 3653 3692 3681 3729 3700 3703 3675 3696 3696 3678 3681 3678 3676 3682 3714 3659 3726 3662 3663 3675 3721 3741 3708 3695 3687 3694 3674 3725 3737 3691 3699 3665 3739 3703 3698 3669 3725 3663 3694 3741 3663 3673 3719 3652 3664 3734 3701 3647 3720 3675 3741 3732 3652 3686 3718 3655 3674 3732 3725 3722 3723 3678 3716 3669 3672 3673 3717 3650 3702 3690 3654 3692 3648 3728 3653 3702 3705 3712 3673 3685 3711 3697 3736 3691 3704 3725 3725 3727 3713 3728 3705 3674 3715 3662 3662 3739 3674 3700 3647 3718 3708 3678 3680 3715 3672 3726 3744 3704 3645 3742 3671 3663 3667 3674 3687 3679 3720 3690 3661 3650 3670 3657 3696 3654 3741 3731\").split()))\n",
        "brr = list(map(int,(\"3697 3674 3700 3652 3702 3718 3693 3724 3676 3657 3656 3654 3668 3721 3683 3704 3711 3695 3656 3715 3685 3688 3688 3728 3731 3732 3669 3717 3687 3654 3694 3689 3653 3682 3646 3674 3668 3719 3720 3657 3668 3722 3675 3674 3698 3690 3732 3650 3651 3696 3725 3683 3705 3710 3688 3727 3725 3716 3716 3721 3728 3722 3671 3670 3681 3645 3696 3713 3680 3717 3673 3675 3720 3741 3738 3669 3676 3679 3723 3727 3647 3713 3660 3681 3687 3707 3675 3678 3726 3649 3723 3726 3694 3701 3741 3718 3743 3720 3674 3738 3686 3706 3698 3723 3728 3648 3654 3742 3690 3709 3737 3704 3681 3725 3713 3724 3684 3648 3690 3650 3667 3741 3655 3718 3680 3665 3665 3727 3660 3655 3703 3692 3739 3649 3677 3724 3737 3683 3696 3708 3736 3744 3738 3742 3739 3703 3706 3652 3668 3648 3683 3654 3708 3688 3713 3669 3717 3675 3694 3709 3739 3702 3666 3681 3685 3673 3662 3645 3683 3691 3671 3652 3702 3659 3649 3652 3665 3721 3704 3739 3719 3715 3713 3729 3692 3703 3731 3645 3662 3734 3654 3667 3664 3646 3704 3680 3730 3737 3742 3683 3732 3701 3666 3673 3669 3715 3655 3675 3654 3720 3720 3678 3739 3726 3707 3738 3681 3720 3653 3669 3716 3700 3681 3668 3741 3731 3650 3705 3675 3687 3671 3738 3646 3661 3737 3744 3696 3690 3648 3719 3723 3670 3673 3666 3743 3714 3657 3725 3677 3704 3697 3703 3725 3682 3723 3662 3664 3647 3701 3723 3691 3710 3742 3704 3674 3691 3718 3682 3697 3664 3646 3683 3705 3682 3685 3702 3658 3648 3733 3702 3739 3742 3703 3742 3737 3649 3669 3683 3668 3653 3670 3723 3680 3681 3717 3732 3657 3734 3735 3714 3698 3650 3735 3656 3676 3712 3678 3739 3701 3735 3677 3672 3710 3646 3721 3652 3737 3686 3692 3682 3695 3662 3719 3736 3711 3672 3721 3676 3732 3698 3673 3667 3716 3648 3698 3648 3678 3723 3645 3742 3724 3678 3705 3678 3701 3649 3742 3717 3699 3677 3680 3700 3717 3691 3737 3672 3661 3702 3672 3740 3709 3649 3719 3742 3739 3668 3650 3737 3660 3691 3723 3679 3696 3696 3682 3738 3671 3687 3700 3722 3655 3701 3694 3723 3742 3667 3707 3652 3715 3711 3657 3718 3656 3663 3655 3720 3725 3674 3719 3715 3694 3676 3708 3737 3740 3690 3696 3675 3694 3660 3710 3667 3715 3717 3700 3695 3712 3687 3687 3726 3663 3733 3675 3735 3664 3662 3728 3711 3742 3718 3722 3646 3687 3680 3715 3664 3669 3654 3659 3686 3730 3666 3648 3713 3703 3712 3704 3701 3665 3679 3722 3682 3741 3650 3689 3735 3725 3657 3694 3728 3724 3685 3725 3731 3649 3651 3736 3694 3723 3677 3689 3685 3683 3682 3696 3718 3654 3673 3722 3718 3667 3658 3718 3683 3693 3705 3660 3694 3698 3650 3714 3657 3652 3656 3732 3668 3685 3734 3678 3689 3701 3666 3674 3646 3695 3692 3653 3705 3679 3654 3741 3666 3684 3645 3697 3735 3716 3735 3685 3730 3672 3656 3727 3695 3723 3714 3647 3681 3647 3713 3699 3696 3733 3722 3659 3652 3733 3683 3660 3736 3730 3687 3731 3704 3725 3733 3683 3692 3721 3657 3689 3668 3703 3723 3673 3711 3670 3725 3710 3655 3739 3666 3676 3681 3652 3667 3679 3723 3666 3712 3682 3692 3691 3668 3671 3720 3688 3658 3671 3687 3648 3716 3735 3649 3651 3720 3676 3705 3712 3673 3677 3722 3659 3683 3699 3679 3718 3650 3711 3722 3648 3662 3650 3656 3738 3672 3734 3740 3655 3664 3673 3667 3730 3700 3741 3729 3686 3647 3734 3730 3715 3651 3704 3696 3705 3650 3700 3664 3701 3714 3727 3702 3684 3659 3720 3655 3715 3706 3654 3698 3669 3728 3718 3663 3680 3696 3662 3688 3653 3645 3662 3687 3744 3709 3742 3680 3678 3742 3660 3679 3663 3671 3682 3674 3721 3712 3702 3703 3714 3651 3725 3738 3705 3709 3683 3654 3677 3684 3725 3663 3697 3689 3672 3738 3711 3678 3660 3660 3692 3646 3731 3726 3736 3657 3742 3686 3710 3708 3677 3680 3669 3723 3717 3667 3681 3732 3741 3676 3735 3684 3652 3677 3734 3718 3656 3687 3692 3677 3658 3683 3721 3660 3656 3717 3705 3719 3711 3667 3653 3672 3700 3705 3730 3647 3675 3708 3717 3650 3714 3650 3701 3715 3680 3659 3679 3675 3655 3723 3649 3678 3660 3721 3663 3707 3687 3714 3692 3658 3730 3722 3697 3680 3712 3697 3661 3692 3666 3678 3727 3708 3653 3673 3684 3662 3740 3743 3672 3726 3726 3681 3713 3719 3673 3715 3725 3698 3648 3653 3665 3669 3730 3708 3683 3730 3729 3645 3693 3678 3647 3736 3736 3732 3673 3660 3646 3691 3727 3712 3662 3656 3690 3673 3656 3724 3690 3716 3721 3741 3725 3721 3690 3647 3721 3690 3657 3655 3680 3692 3674 3706 3744 3741 3692 3729 3687 3744 3707 3664 3744 3656 3712 3680 3660 3701 3720 3664 3665 3737 3662 3667 3667 3647 3665 3648 3723 3693 3701 3702 3712 3720 3734 3724 3651 3734 3647 3654 3663 3724 3671 3738 3658 3740 3693 3678 3726 3656 3651 3669 3689 3733 3721 3716 3695 3720 3726 3697 3674 3698 3660 3688 3701 3652 3706 3687 3743 3711 3726 3706 3670 3666 3687 3741 3668 3660 3700 3710 3729 3646 3704 3690 3690 3729 3693 3714 3709 3706 3699 3700 3696 3721 3684 3650 3647 3700 3669 3716 3647 3716 3726 3664 3660 3660 3668 3647 3661 3674 3730 3705 3688 3692 3710 3724 3681 3715 3722 3726 3683 3677 3706 3645 3701 3721 3666 3737 3654 3744 3662 3720 3707 3734 3704 3711 3707 3647 3659 3740 3655 3697 3717 3692 3685 3708 3701 3680 3682 3648 3744 3687 3657 3663 3690 3731 3673 3674 3734 3652 3714 3725 3703 3651 3711 3664 3696 3722 3685 3741 3647 3646 3709 3695 3691 3673 3743 3671 3727 3704 3675 3672 3737\".split())))\n",
        "\n",
        "#res = [3 7 8 10 12]\n",
        "c_a = Counter(arr)\n",
        "b_a = Counter(brr)\n",
        "res = []\n",
        "for i in brr:\n",
        "  if c_a[i] < b_a.get(i,0) :\n",
        "    res.append(i)\n",
        "    b_a[i] -= 1\n",
        "print(sorted(list(set(res))))\n",
        "print(c_a)\n",
        "print(b_a)\n",
        "\n",
        "\n",
        "# 3670 3674 3677 3684 3685 3695 3714 3720"
      ],
      "metadata": {
        "id": "cD6qxvppjhQC",
        "colab": {
          "base_uri": "https://localhost:8080/"
        },
        "outputId": "0a869c83-3c06-49e8-e182-e6ce82ae6c5f"
      },
      "execution_count": null,
      "outputs": [
        {
          "output_type": "stream",
          "name": "stdout",
          "text": [
            "[3670, 3674, 3677, 3684, 3685, 3695, 3714, 3720]\n",
            "Counter({3683: 17, 3660: 17, 3723: 17, 3687: 16, 3721: 15, 3647: 15, 3673: 15, 3701: 15, 3725: 15, 3692: 14, 3680: 14, 3742: 14, 3696: 13, 3648: 13, 3654: 13, 3650: 13, 3656: 13, 3720: 13, 3678: 13, 3741: 12, 3652: 12, 3704: 12, 3668: 12, 3662: 12, 3690: 12, 3718: 12, 3722: 12, 3669: 12, 3705: 12, 3715: 12, 3667: 12, 3726: 12, 3681: 12, 3737: 12, 3657: 11, 3664: 11, 3717: 11, 3666: 11, 3730: 11, 3674: 11, 3682: 11, 3646: 11, 3711: 11, 3655: 11, 3700: 11, 3675: 11, 3677: 10, 3738: 10, 3734: 10, 3712: 10, 3672: 10, 3716: 10, 3739: 9, 3714: 9, 3702: 9, 3649: 9, 3694: 9, 3703: 9, 3724: 9, 3735: 9, 3697: 9, 3698: 9, 3671: 9, 3719: 8, 3732: 8, 3706: 8, 3710: 8, 3713: 8, 3663: 8, 3653: 8, 3691: 8, 3688: 8, 3679: 8, 3708: 8, 3651: 8, 3727: 8, 3744: 8, 3676: 8, 3645: 8, 3665: 7, 3685: 7, 3707: 7, 3689: 7, 3709: 7, 3659: 7, 3736: 7, 3731: 7, 3733: 6, 3729: 6, 3728: 6, 3693: 6, 3684: 6, 3740: 6, 3695: 6, 3658: 6, 3743: 5, 3686: 5, 3699: 4, 3661: 4, 3670: 4})\n",
            "Counter({3683: 17, 3723: 17, 3660: 17, 3687: 16, 3721: 15, 3725: 15, 3673: 15, 3647: 15, 3701: 15, 3680: 14, 3742: 14, 3692: 14, 3656: 13, 3654: 13, 3720: 13, 3650: 13, 3696: 13, 3678: 13, 3648: 13, 3652: 12, 3718: 12, 3668: 12, 3704: 12, 3715: 12, 3669: 12, 3722: 12, 3690: 12, 3705: 12, 3681: 12, 3741: 12, 3726: 12, 3737: 12, 3667: 12, 3662: 12, 3674: 11, 3700: 11, 3657: 11, 3711: 11, 3717: 11, 3682: 11, 3646: 11, 3675: 11, 3655: 11, 3666: 11, 3664: 11, 3730: 11, 3716: 10, 3738: 10, 3677: 10, 3734: 10, 3712: 10, 3672: 10, 3697: 9, 3702: 9, 3724: 9, 3694: 9, 3698: 9, 3671: 9, 3649: 9, 3703: 9, 3739: 9, 3714: 9, 3735: 9, 3676: 8, 3688: 8, 3732: 8, 3653: 8, 3719: 8, 3651: 8, 3710: 8, 3727: 8, 3645: 8, 3713: 8, 3679: 8, 3706: 8, 3708: 8, 3744: 8, 3691: 8, 3663: 8, 3685: 7, 3731: 7, 3689: 7, 3707: 7, 3709: 7, 3665: 7, 3736: 7, 3659: 7, 3693: 6, 3695: 6, 3728: 6, 3684: 6, 3729: 6, 3658: 6, 3733: 6, 3740: 6, 3743: 5, 3686: 5, 3670: 4, 3661: 4, 3699: 4})\n"
          ]
        }
      ]
    },
    {
      "cell_type": "code",
      "source": [
        "k = int(input())\n",
        "arr = list(map(int,input().split()))\n",
        "res = 0\n",
        "a = set(arr)\n",
        "for i in arr:\n",
        "  if (i - k) in a:\n",
        "    res += 1\n",
        "\n",
        "print(res)"
      ],
      "metadata": {
        "colab": {
          "base_uri": "https://localhost:8080/"
        },
        "id": "E39LnFFdAhfd",
        "outputId": "51850fe2-b56d-468c-ed0f-fe1dcd6259fa"
      },
      "execution_count": null,
      "outputs": [
        {
          "output_type": "stream",
          "name": "stdout",
          "text": [
            "1\n",
            "1 2 3 4\n",
            "3\n"
          ]
        }
      ]
    },
    {
      "cell_type": "code",
      "source": [
        "for _ in range(int(input())):\n",
        "  length = int(input())\n",
        "  a = list(map(int,input().split()))\n",
        "  if len(a) < 2:\n",
        "    print(\"YES\")\n",
        "  else:\n",
        "    for i in range(len(a)):\n",
        "      if sum(a[:i]) == sum(a[i+1:]):\n",
        "        print(\"YES\")\n",
        "        break\n",
        "    else:\n",
        "      print(\"NO\")"
      ],
      "metadata": {
        "id": "mH5s249PEja3",
        "colab": {
          "base_uri": "https://localhost:8080/"
        },
        "outputId": "ac3ba5fb-493d-46ad-b5c4-139accb653d7"
      },
      "execution_count": null,
      "outputs": [
        {
          "output_type": "stream",
          "name": "stdout",
          "text": [
            "3\n",
            "5\n",
            "1 1 4 1 1\n",
            "YES\n",
            "4\n",
            "2 0 0 0\n",
            "YES\n",
            "4\n",
            "0 0 2 0\n",
            "YES\n"
          ]
        }
      ]
    },
    {
      "cell_type": "code",
      "source": [
        "a = list(map(int, input().split()))\n",
        "\n",
        "total_sum = sum(a)\n",
        "left_sum = 0\n",
        "\n",
        "for i in range(len(a)):\n",
        "    if i > 0:\n",
        "        left_sum += a[i - 1]\n",
        "\n",
        "    if left_sum == total_sum - left_sum - a[i]:\n",
        "        print(\"YES\")\n",
        "        break\n",
        "else:\n",
        "    print(\"NO\")"
      ],
      "metadata": {
        "colab": {
          "base_uri": "https://localhost:8080/"
        },
        "id": "2LdswX4EMgna",
        "outputId": "a8242fa9-c67c-4b13-c776-f5edde26badf"
      },
      "execution_count": null,
      "outputs": [
        {
          "output_type": "stream",
          "name": "stdout",
          "text": [
            "1 2\n",
            "NO\n"
          ]
        }
      ]
    },
    {
      "cell_type": "code",
      "source": [
        "def insertion_sort(arr):\n",
        "    for i in range(1, len(arr)):\n",
        "        key = arr[i]\n",
        "        j = i - 1\n",
        "\n",
        "        while j >= 0 and key < arr[j]:\n",
        "            arr[j + 1] = arr[j]\n",
        "            j -= 1\n",
        "        arr[j + 1] = key\n",
        "\n",
        "arr = [12, 11, 13, 5, 6]\n",
        "insertion_sort(arr)\n",
        "print(\"Sorted array:\", arr)\n"
      ],
      "metadata": {
        "colab": {
          "base_uri": "https://localhost:8080/"
        },
        "id": "Rm7bsZwGOC67",
        "outputId": "9a205a5b-4844-43c5-e1fa-a6882738423f"
      },
      "execution_count": null,
      "outputs": [
        {
          "output_type": "stream",
          "name": "stdout",
          "text": [
            "Sorted array: [5, 6, 11, 12, 13]\n"
          ]
        }
      ]
    },
    {
      "cell_type": "code",
      "source": [
        "m = int(input())\n",
        "a = list(map(int,input().split()))\n",
        "# max_mod = []\n",
        "max_m = 0\n",
        "for i in range(len(a)):\n",
        "  for j in range(i):\n",
        "    # max_mod.append(a[:j+1])\n",
        "    sub = a[:j+1]\n",
        "    if len(sub) < 2 and sub[0]%m > max_m:\n",
        "      max_m = sub[0]%m\n",
        "    else:\n",
        "      if sum(sub)%m > max_m:\n",
        "        max_m = sum(sub)%m\n",
        "\n",
        "\n",
        "print(max_m)"
      ],
      "metadata": {
        "colab": {
          "base_uri": "https://localhost:8080/"
        },
        "id": "xEX6plSnOTvu",
        "outputId": "0f0a2ee6-5ef9-4c84-e43c-083cd1e97cdb"
      },
      "execution_count": null,
      "outputs": [
        {
          "output_type": "stream",
          "name": "stdout",
          "text": [
            "5\n",
            "1 5 9\n",
            "1\n"
          ]
        }
      ]
    },
    {
      "cell_type": "code",
      "source": [],
      "metadata": {
        "colab": {
          "base_uri": "https://localhost:8080/"
        },
        "id": "hUJt4vLGQjSB",
        "outputId": "ba82c44f-154b-47d5-884e-008db56f02af"
      },
      "execution_count": null,
      "outputs": [
        {
          "output_type": "stream",
          "name": "stdout",
          "text": [
            "[5, 6, 4, 5, 6]\n"
          ]
        }
      ]
    },
    {
      "cell_type": "code",
      "source": [
        "a = [[1,1,1,0,0,0],[0,1,0,0,0,0],[1,1,1,0,0,0],[0,0,2,4,4,0],[0,0,0,2,0,0],[0,0,1,2,4,0]]\n",
        "max_sum = 0\n",
        "for i in range(len(a)-2):\n",
        "  for j in range(len(a)-2):\n",
        "    res = [sum(a[i][j:j+3]),a[i+1][j+1],sum(a[i+2][j:j+3])]\n",
        "    # print(res)\n",
        "    if max_sum < sum(res):\n",
        "      max_sum = sum(res)\n",
        "print(max_sum)"
      ],
      "metadata": {
        "colab": {
          "base_uri": "https://localhost:8080/"
        },
        "id": "AIaCRTUlTXDt",
        "outputId": "bb3fe402-48ce-4c90-9391-a8ebc983f8af"
      },
      "execution_count": null,
      "outputs": [
        {
          "output_type": "stream",
          "name": "stdout",
          "text": [
            "19\n"
          ]
        }
      ]
    },
    {
      "cell_type": "code",
      "source": [
        "a = list(map(int,input().split()))\n",
        "# max_ele = 0\n",
        "def binary(a):\n",
        "  low = 0\n",
        "\n",
        "  high = len(a) - 1\n",
        "  while low < high:\n",
        "    mid = (low + high) // 2\n",
        "    if a[mid] < a[mid+1]:\n",
        "      low = mid + 1\n",
        "    else:\n",
        "      high = mid\n",
        "\n",
        "  return a[low]\n",
        "\n",
        "print(binary(a))"
      ],
      "metadata": {
        "colab": {
          "base_uri": "https://localhost:8080/"
        },
        "id": "MM0qDNlXQnzw",
        "outputId": "945026f8-19c2-4e19-fa20-99d68aaddbff"
      },
      "execution_count": null,
      "outputs": [
        {
          "output_type": "stream",
          "name": "stdout",
          "text": [
            "1 2 3 4 5 6 4 3 2\n",
            "6\n"
          ]
        }
      ]
    },
    {
      "cell_type": "code",
      "source": [
        "a = int(input())\n",
        "b = list(map(int,input().split()))\n",
        "for i in sorted(b):\n",
        "  print(i,end =\" \")"
      ],
      "metadata": {
        "colab": {
          "base_uri": "https://localhost:8080/"
        },
        "id": "3NGSRoAvdSvH",
        "outputId": "3523e817-609d-45d5-e27c-3bca039e9cb8"
      },
      "execution_count": null,
      "outputs": [
        {
          "output_type": "stream",
          "name": "stdout",
          "text": [
            "4\n",
            "3 2 1 2\n",
            "1 2 2 3 "
          ]
        }
      ]
    },
    {
      "cell_type": "code",
      "source": [
        "for _ in range(int(input())):\n",
        "  n = int(input())\n",
        "  arr = list(map(int,input().split()))\n",
        "  res = 0\n",
        "  for j in range(n):\n",
        "    for i in range(0,n-j-1):\n",
        "      if arr[i] > arr[i+1]:\n",
        "        temp = arr[i]\n",
        "        arr[i] = arr[i+1]\n",
        "        arr[i+1] = temp\n",
        "        res += 1\n",
        "  print(res)"
      ],
      "metadata": {
        "colab": {
          "base_uri": "https://localhost:8080/"
        },
        "id": "3laSuzv7hETM",
        "outputId": "301ce5cf-933e-461e-e3cd-1139051f4e6a"
      },
      "execution_count": null,
      "outputs": [
        {
          "output_type": "stream",
          "name": "stdout",
          "text": [
            "4\n",
            "8\n",
            "176 -272 -272 -45 269 -327 -945 176 \n",
            "15\n",
            "2\n",
            "-274 161\n",
            "0\n",
            "7\n",
            "274 204 -161 481 -606 -767 -351\n",
            "16\n",
            "2\n",
            "154 -109\n",
            "1\n"
          ]
        }
      ]
    },
    {
      "cell_type": "code",
      "source": [
        "for _ in range(int(input())):\n",
        "  n = int(input())\n",
        "  res = []\n",
        "  arr = list(map(int,input().split()))\n",
        "  for i in range(1, len(arr)):\n",
        "        key = arr[i]\n",
        "        j = i - 1\n",
        "\n",
        "        while j >= 0 and key < arr[j]:\n",
        "            arr[j + 1] = arr[j]\n",
        "            j -= 1\n",
        "            # res[j+1] += 1\n",
        "        arr[j + 1] = key\n",
        "        res.append(j+1)\n",
        "  print(*res)"
      ],
      "metadata": {
        "colab": {
          "base_uri": "https://localhost:8080/"
        },
        "id": "y-GT4Y3FiPDv",
        "outputId": "5221e9fa-a3aa-4acd-fd29-a73f7f1fc996"
      },
      "execution_count": null,
      "outputs": [
        {
          "output_type": "stream",
          "name": "stdout",
          "text": [
            "1\n",
            "8\n",
            "176 -272 -272 -45 269 -327 -945 176 \n",
            "[0, 1, 2, 4, 0, 0, 6]\n"
          ]
        }
      ]
    },
    {
      "cell_type": "code",
      "source": [
        "n = int(input())\n",
        "arr = list(map(int,input().split()))\n",
        "for i in range(n):\n",
        "  for j in range(i+1,n):\n",
        "    if arr[i] > arr[j]:\n",
        "      temp = arr[i]\n",
        "      arr[i] = arr[j]\n",
        "      arr[j] = temp\n",
        "for i in arr:\n",
        "  print(i,end = \" \")"
      ],
      "metadata": {
        "colab": {
          "base_uri": "https://localhost:8080/"
        },
        "id": "7HezHkoCi3_A",
        "outputId": "4627b033-ae01-4eaa-d4d6-0d8b0e18b701"
      },
      "execution_count": null,
      "outputs": [
        {
          "output_type": "stream",
          "name": "stdout",
          "text": [
            "4\n",
            "3 2 1 2\n",
            "[1, 2, 2, 3]\n"
          ]
        }
      ]
    },
    {
      "cell_type": "code",
      "source": [
        "def min_operations_to_equalize(n, x, array):\n",
        "    original_count = {}\n",
        "    transformed_count = {}\n",
        "    transform_once_count = {}\n",
        "\n",
        "    # Step 1: Count occurrences of each element in the original array\n",
        "    for num in array:\n",
        "        if num in original_count:\n",
        "            original_count[num] += 1\n",
        "        else:\n",
        "            original_count[num] = 1\n",
        "\n",
        "    # If any number appears at least twice in the original array, no operations are needed\n",
        "    for key in original_count:\n",
        "        if original_count[key] > 1:\n",
        "            return 0  # No operations needed\n",
        "\n",
        "    # Step 2: Count occurrences of elements after AND with x\n",
        "    for num in array:\n",
        "        transformed_num = num & x\n",
        "        if transformed_num in transformed_count:\n",
        "            transformed_count[transformed_num] += 1\n",
        "        else:\n",
        "            transformed_count[transformed_num] = 1\n",
        "\n",
        "        if transformed_num in transform_once_count:\n",
        "            transform_once_count[transformed_num].append(num)\n",
        "        else:\n",
        "            transform_once_count[transformed_num] = [num]\n",
        "\n",
        "    # If any transformed number appears at least twice, one operation is needed\n",
        "    for key in transformed_count:\n",
        "        if transformed_count[key] > 1:\n",
        "            return 1  # One operation needed\n",
        "\n",
        "    # Check if we can make any original number equal to any other number by one transformation\n",
        "    for key in transform_once_count:\n",
        "        if len(transform_once_count[key]) > 1:\n",
        "            return 2  # Two operations needed (transforming two different elements to the same value)\n",
        "\n",
        "    # If none of the above conditions are met, return -1\n",
        "    return -1\n",
        "\n",
        "# Input\n",
        "n, x = map(int, input().split())\n",
        "array = list(map(int, input().split()))\n",
        "\n",
        "# Output the minimal number of operations\n",
        "print(min_operations_to_equalize(n, x, array))\n"
      ],
      "metadata": {
        "id": "yZqs8WttjjTa",
        "colab": {
          "base_uri": "https://localhost:8080/"
        },
        "outputId": "06fd30f3-22c5-4a31-d491-d7c8361727be"
      },
      "execution_count": null,
      "outputs": [
        {
          "output_type": "stream",
          "name": "stdout",
          "text": [
            "3 7\n",
            "1 2 3\n",
            "-1\n"
          ]
        }
      ]
    },
    {
      "cell_type": "code",
      "source": [
        "def xor_of_all_subarrays(n, features):\n",
        "    result = 0\n",
        "\n",
        "    # Iterate over all possible starting points of subarrays\n",
        "    for i in range(n):\n",
        "        xor_sum = 0\n",
        "        # Iterate over all possible ending points of subarrays starting from i\n",
        "        for j in range(i, n):\n",
        "            xor_sum ^= features[j]\n",
        "            result ^= xor_sum\n",
        "\n",
        "    return result\n",
        "\n",
        "\n",
        "# Input\n",
        "n = int(input())\n",
        "features = list(map(int, input().split()))\n",
        "\n",
        "# Output the result\n",
        "print(xor_of_all_subarrays(n, features))\n"
      ],
      "metadata": {
        "colab": {
          "base_uri": "https://localhost:8080/"
        },
        "id": "bUD391ldeqUg",
        "outputId": "d8526027-b64d-441f-90d4-c8fbe1bba87f"
      },
      "execution_count": null,
      "outputs": [
        {
          "output_type": "stream",
          "name": "stdout",
          "text": [
            "5\n",
            "4 3 5 1 2\n",
            "3\n"
          ]
        }
      ]
    },
    {
      "cell_type": "code",
      "source": [
        "def merge(right,left):\n",
        "  mergde = []\n",
        "  i, j = 0,0\n",
        "  while i < len(left) and j < len(right):\n",
        "    if left[i] < right[j]:\n",
        "      mergde.append(left[i])\n",
        "      i += 1\n",
        "    else:\n",
        "      mergde.append(right[j])\n",
        "      j += 1\n",
        "  while i < len(left):\n",
        "    mergde.append(left[i])\n",
        "    i += 1\n",
        "  while j < len(right):\n",
        "    mergde.append(right[j])\n",
        "    j += 1\n",
        "  return mergde\n",
        "\n",
        "\n",
        "def partition(lst):\n",
        "  if len(lst) <= 1:\n",
        "    return lst\n",
        "  mid = len(lst) // 2\n",
        "  left = partition(lst[:mid])\n",
        "  # print(left)\n",
        "  right = partition(lst[mid:])\n",
        "  # print(right)\n",
        "  return merge(left,right)\n",
        "\n",
        "arr = list(map(int,input().split()))\n",
        "print(partition(arr))"
      ],
      "metadata": {
        "id": "mq2g4wMYcO9y",
        "colab": {
          "base_uri": "https://localhost:8080/"
        },
        "outputId": "fa3b05f5-150a-42ec-b051-fafc64e2ec4a"
      },
      "execution_count": null,
      "outputs": [
        {
          "output_type": "stream",
          "name": "stdout",
          "text": [
            "5 64 38 2 56 \n",
            "[5]\n",
            "[64]\n",
            "[5, 64]\n",
            "[38]\n",
            "[2]\n",
            "[56]\n",
            "[2, 56]\n",
            "[2, 38, 56]\n",
            "[2, 5, 38, 56, 64]\n"
          ]
        }
      ]
    },
    {
      "cell_type": "code",
      "source": [
        "def mergesort(arr):\n",
        "  if len(arr) <= 1:\n",
        "    return arr\n",
        "  mid = len(arr) // 2\n",
        "  left = mergesort(arr[:mid])\n",
        "  right = mergesort(arr[mid:])\n",
        "\n",
        "  return mergelist(left,right)\n",
        "\n",
        "def mergelist(left,right):\n",
        "  res = []\n",
        "  print(left,right)\n",
        "  while left and right:\n",
        "    if left[0] < right[0]:\n",
        "      res.append(left.pop(0))\n",
        "    else:\n",
        "      res.append(right.pop(0))\n",
        "\n",
        "  while left:\n",
        "    res.append(left.pop(0))\n",
        "\n",
        "  while right:\n",
        "    res.append(right.pop(0))\n",
        "\n",
        "  return res\n",
        "\n",
        "arr = list(map(int,input().split()))\n",
        "print(*mergesort(arr))"
      ],
      "metadata": {
        "colab": {
          "base_uri": "https://localhost:8080/"
        },
        "id": "o6u3WzTGXn2Z",
        "outputId": "7b61af07-4472-4f9a-9984-66f5bfb54266"
      },
      "execution_count": null,
      "outputs": [
        {
          "output_type": "stream",
          "name": "stdout",
          "text": [
            "9 8 7 6 5 4 3 2 1\n",
            "[9] [8]\n",
            "[7] [6]\n",
            "[8, 9] [6, 7]\n",
            "[5] [4]\n",
            "[2] [1]\n",
            "[3] [1, 2]\n",
            "[4, 5] [1, 2, 3]\n",
            "[6, 7, 8, 9] [1, 2, 3, 4, 5]\n",
            "[1, 2, 3, 4, 5, 6, 7, 8, 9]\n"
          ]
        }
      ]
    },
    {
      "cell_type": "code",
      "source": [
        "def quicksort(arr):\n",
        "  if len(arr) <= 1:\n",
        "    return arr\n",
        "  pivot = arr[len(arr) // 2]\n",
        "  left = [x for x in arr if x < pivot]\n",
        "  middle = [x for x in arr if x == pivot]\n",
        "  right = [x for x in arr if x > pivot]\n",
        "  return quicksort(left) + middle + quicksort(right)\n",
        "\n",
        "\n",
        "arr = list(map(int,input().split()))\n",
        "print(*quicksort(arr))\n",
        "\n"
      ],
      "metadata": {
        "colab": {
          "base_uri": "https://localhost:8080/"
        },
        "id": "Vu27vtMebC7W",
        "outputId": "aa3d7c4e-3899-452d-f1f4-83c1b0d588bf"
      },
      "execution_count": null,
      "outputs": [
        {
          "output_type": "stream",
          "name": "stdout",
          "text": [
            "9 8 7 6 5 4 3 2 1\n",
            "1 2 3 4 5 6 7 8 9\n"
          ]
        }
      ]
    },
    {
      "cell_type": "code",
      "source": [
        "n = int(input())\n",
        "arr = [[1,5,3],[4,8,7],[6,9,1]]\n",
        "res = [0] * (n+1)\n",
        "for a,b,k in arr:\n",
        "\n",
        "\n",
        "  for i in range(a,b+1):\n",
        "    res[i] += k\n",
        "print(max(res))"
      ],
      "metadata": {
        "colab": {
          "base_uri": "https://localhost:8080/"
        },
        "id": "xzG6LOXzeYKR",
        "outputId": "8aeba81f-2e8a-43f1-d826-d964319bd4b7"
      },
      "execution_count": null,
      "outputs": [
        {
          "output_type": "stream",
          "name": "stdout",
          "text": [
            "10\n",
            "10\n"
          ]
        }
      ]
    },
    {
      "cell_type": "code",
      "source": [
        "import time\n",
        "class node:\n",
        "  def __init__(self,num):\n",
        "    self.num = num\n",
        "    self.next = None\n",
        "\n",
        "class linkedlist:\n",
        "  def __init__(self):\n",
        "    self.head = None\n",
        "\n",
        "  def insertatstart(self,val):\n",
        "    newnode = node(val)\n",
        "    newnode.next = self.head\n",
        "    self.head = newnode\n",
        "\n",
        "  def display(self):\n",
        "    if not self.head:\n",
        "      print(\"Empty\")\n",
        "    else:\n",
        "      temp = self.head\n",
        "      while temp:\n",
        "        print(temp.num,end = \" -> \")\n",
        "        temp = temp.next\n",
        "      print(\"Null\\n\")\n",
        "\n",
        "  def insertatend(self,val):\n",
        "    newnode = node(val)\n",
        "    if not self.head:\n",
        "      self.head = newnode\n",
        "    else:\n",
        "      temp = self.head\n",
        "      while temp.next:\n",
        "        temp = temp.next\n",
        "      temp.next = newnode\n",
        "\n",
        "  def insetatpos(self,pos,val):\n",
        "    newnode = node(val)\n",
        "    if not self.head:\n",
        "      self.head = newnode\n",
        "    elif pos == 0:\n",
        "      self.insertatstart(val)\n",
        "    else:\n",
        "      temp = self.head\n",
        "      for i in range(pos-1):\n",
        "        temp = temp.next\n",
        "      newnode.next = temp.next\n",
        "      temp.next = newnode\n",
        "\n",
        "  def deletenode(self,val):\n",
        "    if not self.head:\n",
        "      print(\"Empty\")\n",
        "    temp = self.head\n",
        "    if val == temp.num:\n",
        "      self.head = temp.next\n",
        "    else:\n",
        "      while temp.next.num != val and temp.next:\n",
        "        temp = temp.next\n",
        "      temp.next = temp.next.next\n",
        "\n",
        "  def deleteatlast(self):\n",
        "    if not self.head:\n",
        "      print(\"Empty\")\n",
        "    elif not self.head.next:\n",
        "      self.head = None\n",
        "    else:\n",
        "      temp = self.head\n",
        "      while temp.next.next:\n",
        "        temp = temp.next\n",
        "      temp.next = None\n",
        "\n",
        "  def search(self,val):\n",
        "    if not self.head:\n",
        "      print(\"Empty\")\n",
        "    else:\n",
        "      pos = 0\n",
        "      temp = self.head\n",
        "      while temp.num != val:\n",
        "        temp = temp.next\n",
        "        pos += 1\n",
        "      print(pos)\n",
        "def main():\n",
        "  print(\"1. Insert at start\\n2. Display\\n3. Insert at end\\n4. Insert at a position\\n5. Delete\\n6. Delete at end\\n7. Search\\n8. Exit\")\n",
        "  l = linkedlist()\n",
        "\n",
        "  while True:\n",
        "\n",
        "    choice = int(input(\"Enter your choice: \"))\n",
        "    if choice == 1:\n",
        "      val = int(input(\"Enter the head value: \"))\n",
        "      l.insertatstart(val)\n",
        "\n",
        "    elif choice == 2:\n",
        "      l.display()\n",
        "\n",
        "    elif choice == 3:\n",
        "      val = int(input(\"Enter the tail value: \"))\n",
        "      l.insertatend(val)\n",
        "\n",
        "    elif choice == 4:\n",
        "      pos = int(input(\"Enter the position to add element: \"))\n",
        "      val = int(input(\"Enter the value you want to add: \"))\n",
        "      l.insetatpos(pos,val)\n",
        "\n",
        "    elif choice == 5:\n",
        "      val = int(input(\"Enter the value to delete: \"))\n",
        "      l.deletenode(val)\n",
        "      l.display()\n",
        "\n",
        "    elif choice == 6:\n",
        "      l.deleteatlast()\n",
        "      l.display()\n",
        "    elif choice == 7:\n",
        "      val = int(input(\"Enter the value to search: \"))\n",
        "      l.search(val)\n",
        "\n",
        "    elif choice == 8:\n",
        "      # time.sleep(1)\n",
        "      # print(\"Exiting.\")\n",
        "      # time.sleep(1)\n",
        "      # print(\"Exiting..\")\n",
        "      print(\"Exiting...\")\n",
        "      time.sleep(1)\n",
        "      print(\"Bye bye\")\n",
        "      break\n",
        "\n",
        "    else:\n",
        "      print(\"Invalid choice\")\n",
        "\n",
        "if __name__ == \"__main__\":\n",
        "  main()"
      ],
      "metadata": {
        "colab": {
          "base_uri": "https://localhost:8080/"
        },
        "id": "F1fJNcVVhUD8",
        "outputId": "f0ac3a77-bd9f-436d-b86f-b02bb3ac6210"
      },
      "execution_count": null,
      "outputs": [
        {
          "output_type": "stream",
          "name": "stdout",
          "text": [
            "1. Insert at start\n",
            "2. Display\n",
            "3. Insert at end\n",
            "4. Insert at a position\n",
            "5. Delete\n",
            "6. Delete at end\n",
            "7. Search\n",
            "8. Exit\n",
            "Enter your choice: 1\n",
            "Enter the head value: 20\n",
            "Enter your choice: 1\n",
            "Enter the head value: 30\n",
            "Enter your choice: 1\n",
            "Enter the head value: 50\n",
            "Enter your choice: 7\n",
            "Enter the value to search: 50\n",
            "0\n",
            "Enter your choice: 7\n",
            "Enter the value to search: 20\n",
            "2\n",
            "Enter your choice: 8\n",
            "Exiting...\n",
            "Bye bye\n"
          ]
        }
      ]
    },
    {
      "cell_type": "code",
      "source": [
        "#doubly linked list\n",
        "import time\n",
        "\n",
        "class node:\n",
        "  def __init__(self,val):\n",
        "    self.val = val\n",
        "    self.next = None\n",
        "    self.prev = None\n",
        "\n",
        "class linkedlist:\n",
        "  def __init__(self):\n",
        "    self.head = None\n",
        "  def insertAtBeg(self,val):\n",
        "    newnode = node(val)\n",
        "    if not self.head:\n",
        "      self.head = newnode\n",
        "    else:\n",
        "      newnode.next = self.head\n",
        "      self.head.prev = newnode\n",
        "      self.head = newnode\n",
        "\n",
        "  def display(self):\n",
        "    if not self.head:\n",
        "      print(\"Empty\")\n",
        "    else:\n",
        "      temp = self.head\n",
        "      while temp:\n",
        "        print(temp.val,end = \" -> \")\n",
        "        temp = temp.next\n",
        "      print(\"Null\")\n",
        "  def insertAtPos(self,pos,val):\n",
        "    if not self.head:\n",
        "      self.insertAtBeg(val)\n",
        "    else:\n",
        "      temp = self.head\n",
        "      for i in range(pos-1):\n",
        "        temp = temp.next\n",
        "        if temp.next == None:\n",
        "          break\n",
        "      newnode = node(val)\n",
        "      if not temp or not temp.next:\n",
        "        self.insertAtEnd(val)\n",
        "      else:\n",
        "        newnode.next = temp.next\n",
        "        newnode.prev = temp\n",
        "        temp.next = newnode\n",
        "        newnode.next.prev = newnode\n",
        "\n",
        "  def delete(self,val):\n",
        "    if not self.head:\n",
        "      print(\"Empty\")\n",
        "    elif self.head.val == val and not self.head.next:\n",
        "      print(f\"The deleted element is {self.head.val}\")\n",
        "      self.head = None\n",
        "      # self.head.prev = None\n",
        "    elif self.head.val != val and not self.head.next:\n",
        "      print(\"Element not in linkedlist\")\n",
        "    else:\n",
        "      temp = self.head\n",
        "      while temp.next.val != val and temp.next:\n",
        "        temp = temp.next\n",
        "        # print(temp.val)\n",
        "        if not temp:\n",
        "          print(\"Element not in linkedlist\")\n",
        "          break\n",
        "      if temp and temp.next.next:\n",
        "        print(f\"The deleted element is {temp.next.val}\")\n",
        "        temp.next = temp.next.next\n",
        "        temp.next.prev = temp\n",
        "      elif temp and not temp.next.next:\n",
        "        temp.next = None\n",
        "\n",
        "\n",
        "  def insertAtEnd(self,val):\n",
        "    if not self.head:\n",
        "      self.insertAtBeg(val)\n",
        "    else:\n",
        "      temp = self.head\n",
        "      while temp.next:\n",
        "        temp = temp.next\n",
        "      newnode = node(val)\n",
        "      newnode.prev = temp\n",
        "      temp.next = newnode\n",
        "\n",
        "def main():\n",
        "  print(\"1. Insert at start\\n2. Display\\n3. Insert at end\\n4. Insert at a position\\n5. Delete\\n6. Exit\")\n",
        "  l = linkedlist()\n",
        "\n",
        "  while True:\n",
        "\n",
        "    choice = int(input(\"Enter your choice: \"))\n",
        "    if choice == 1:\n",
        "      val = int(input(\"Enter the head value: \"))\n",
        "      l.insertAtBeg(val)\n",
        "\n",
        "    elif choice == 2:\n",
        "      l.display()\n",
        "\n",
        "    elif choice == 3:\n",
        "      val = int(input(\"Enter the tail value: \"))\n",
        "      l.insertAtEnd(val)\n",
        "\n",
        "    elif choice == 4:\n",
        "      pos = int(input(\"Enter the position to add element: \"))\n",
        "      val = int(input(\"Enter the value you want to add: \"))\n",
        "      l.insertAtPos(pos,val)\n",
        "\n",
        "    elif choice == 5:\n",
        "      val = int(input(\"Enter the value to delete: \"))\n",
        "      l.delete(val)\n",
        "      if l.head:\n",
        "        l.display()\n",
        "\n",
        "\n",
        "    else:\n",
        "\n",
        "      print(\"Exiting...\")\n",
        "      time.sleep(1)\n",
        "      print(\"Bye bye\")\n",
        "      break\n",
        "\n",
        "\n",
        "if __name__ == \"__main__\":\n",
        "  main()"
      ],
      "metadata": {
        "id": "AICDWt0Hvexb",
        "colab": {
          "base_uri": "https://localhost:8080/"
        },
        "outputId": "8d61c85f-d84f-4c2a-beb2-654ba18bc05f"
      },
      "execution_count": 23,
      "outputs": [
        {
          "output_type": "stream",
          "name": "stdout",
          "text": [
            "1. Insert at start\n",
            "2. Display\n",
            "3. Insert at end\n",
            "4. Insert at a position\n",
            "5. Delete\n",
            "6. Exit\n",
            "Enter your choice: 1\n",
            "Enter the head value: 10\n",
            "Enter your choice: 1\n",
            "Enter the head value: 20\n",
            "Enter your choice: 2\n",
            "20 -> 10 -> Null\n",
            "Enter your choice: 5\n",
            "Enter the value to delete: 10\n",
            "20 -> Null\n",
            "Enter your choice: 5\n",
            "Enter the value to delete: 20\n",
            "The deleted element is 20\n",
            "Enter your choice: 2\n",
            "Empty\n",
            "Enter your choice: 7\n",
            "Exiting...\n",
            "Bye bye\n"
          ]
        }
      ]
    },
    {
      "cell_type": "code",
      "source": [],
      "metadata": {
        "id": "Q6yEzPoEkgj8"
      },
      "execution_count": 18,
      "outputs": []
    }
  ]
}