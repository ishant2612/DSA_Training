{
  "nbformat": 4,
  "nbformat_minor": 0,
  "metadata": {
    "colab": {
      "provenance": [],
      "authorship_tag": "ABX9TyNjWQd8P4EKvCRDZxN9COQH",
      "include_colab_link": true
    },
    "kernelspec": {
      "name": "python3",
      "display_name": "Python 3"
    },
    "language_info": {
      "name": "python"
    }
  },
  "cells": [
    {
      "cell_type": "markdown",
      "metadata": {
        "id": "view-in-github",
        "colab_type": "text"
      },
      "source": [
        "<a href=\"https://colab.research.google.com/github/ishant2612/DSA_Training/blob/main/DSA_Training.ipynb\" target=\"_parent\"><img src=\"https://colab.research.google.com/assets/colab-badge.svg\" alt=\"Open In Colab\"/></a>"
      ]
    },
    {
      "cell_type": "code",
      "execution_count": 25,
      "metadata": {
        "colab": {
          "base_uri": "https://localhost:8080/"
        },
        "id": "SE6Tz8H9lubO",
        "outputId": "2cf5b5a7-810d-4539-9339-551c096f1e33"
      },
      "outputs": [
        {
          "output_type": "stream",
          "name": "stdout",
          "text": [
            "Enter the number you want to convert into binary: 143\n",
            "The binary of 143 is 10001111\n"
          ]
        }
      ],
      "source": [
        "#write the code to convert decimal into binary\n",
        "a =  int(input(\"Enter the number you want to convert into binary: \"))\n",
        "def deciToBinary(a):\n",
        "  if a == 0:\n",
        "    return str(a)\n",
        "  res = []\n",
        "  while a >= 1:\n",
        "      b = a%2\n",
        "      res.append(str(b))\n",
        "      a = a//2\n",
        "  return ''.join(res[-1::-1])\n",
        "\n",
        "\n",
        "print(f\"The binary of {a} is {deciToBinary(a)}\")"
      ]
    },
    {
      "cell_type": "code",
      "source": [
        "#wtite the code to convert binary into decimal\n",
        "def binaryToDecimal(a):\n",
        "  leng = len(a)\n",
        "  print(leng)\n",
        "  res = 0\n",
        "  for i in range(leng-1, 0 , -1):\n",
        "    if a[i] == '1':\n",
        "      res = (res * 10) + 2^i\n",
        "      print(res)\n",
        "\n",
        "  return res\n",
        "\n",
        "a = input(\"Enter the binary number you want to convert into decimal: \")\n",
        "print(f\"The decimal of {a} is {binaryToDecimal(a)}\")"
      ],
      "metadata": {
        "colab": {
          "base_uri": "https://localhost:8080/"
        },
        "id": "xi5C9PI0l7sS",
        "outputId": "245d94d6-79e5-42f3-b8ed-fe9e3df06813"
      },
      "execution_count": 23,
      "outputs": [
        {
          "output_type": "stream",
          "name": "stdout",
          "text": [
            "Enter the binary number you want to convert into decimal: 1111\n",
            "4\n",
            "1\n",
            "14\n",
            "143\n",
            "The decimal of 1111 is 143\n"
          ]
        }
      ]
    },
    {
      "cell_type": "code",
      "source": [],
      "metadata": {
        "id": "KEABV4ZdoxHz"
      },
      "execution_count": null,
      "outputs": []
    }
  ]
}