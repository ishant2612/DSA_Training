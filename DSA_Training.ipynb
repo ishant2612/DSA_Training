{
  "nbformat": 4,
  "nbformat_minor": 0,
  "metadata": {
    "colab": {
      "provenance": [],
      "authorship_tag": "ABX9TyMgWf2S8iEp+gaWcRQeMwU7",
      "include_colab_link": true
    },
    "kernelspec": {
      "name": "python3",
      "display_name": "Python 3"
    },
    "language_info": {
      "name": "python"
    }
  },
  "cells": [
    {
      "cell_type": "markdown",
      "metadata": {
        "id": "view-in-github",
        "colab_type": "text"
      },
      "source": [
        "<a href=\"https://colab.research.google.com/github/ishant2612/DSA_Training/blob/main/DSA_Training.ipynb\" target=\"_parent\"><img src=\"https://colab.research.google.com/assets/colab-badge.svg\" alt=\"Open In Colab\"/></a>"
      ]
    },
    {
      "cell_type": "code",
      "execution_count": 27,
      "metadata": {
        "colab": {
          "base_uri": "https://localhost:8080/"
        },
        "id": "SE6Tz8H9lubO",
        "outputId": "717cf019-e14b-4f9a-dbb7-e165083380f8"
      },
      "outputs": [
        {
          "output_type": "stream",
          "name": "stdout",
          "text": [
            "Enter the number you want to convert into binary: 61\n",
            "The binary of 61 is 111101\n"
          ]
        }
      ],
      "source": [
        "#write the code to convert decimal into binary\n",
        "a =  int(input(\"Enter the number you want to convert into binary: \"))\n",
        "def deciToBinary(a):\n",
        "  if a == 0:\n",
        "    return str(a)\n",
        "  res = []\n",
        "  while a >= 1:\n",
        "      b = a%2\n",
        "      res.append(str(b))\n",
        "      a = a//2\n",
        "  return ''.join(res[-1::-1])\n",
        "\n",
        "\n",
        "print(f\"The binary of {a} is {deciToBinary(a)}\")"
      ]
    },
    {
      "cell_type": "code",
      "source": [
        "#wtite the code to convert binary into decimal\n",
        "def binaryToDecimal(a):\n",
        "  leng = len(a)\n",
        "  pow = 0\n",
        "  res = 0\n",
        "  for i in a[::-1]:\n",
        "    if i == '1':\n",
        "      res+= 2**pow\n",
        "    pow += 1\n",
        "\n",
        "  return res\n",
        "\n",
        "a = input(\"Enter the binary number you want to convert into decimal: \")\n",
        "print(f\"The decimal of {a} is {binaryToDecimal(a)}\")"
      ],
      "metadata": {
        "colab": {
          "base_uri": "https://localhost:8080/"
        },
        "id": "xi5C9PI0l7sS",
        "outputId": "99c8468c-ccdf-4cab-bbd3-ae73b9685c2f"
      },
      "execution_count": 28,
      "outputs": [
        {
          "output_type": "stream",
          "name": "stdout",
          "text": [
            "Enter the binary number you want to convert into decimal: 111101\n",
            "The decimal of 111101 is 61\n"
          ]
        }
      ]
    },
    {
      "cell_type": "code",
      "source": [],
      "metadata": {
        "id": "ZO4sSqKPsZzs"
      },
      "execution_count": null,
      "outputs": []
    }
  ]
}