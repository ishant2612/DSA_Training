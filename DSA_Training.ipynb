{
  "nbformat": 4,
  "nbformat_minor": 0,
  "metadata": {
    "colab": {
      "provenance": [],
      "authorship_tag": "ABX9TyMnhsI+SVz4AahSHhjoql0Q",
      "include_colab_link": true
    },
    "kernelspec": {
      "name": "python3",
      "display_name": "Python 3"
    },
    "language_info": {
      "name": "python"
    }
  },
  "cells": [
    {
      "cell_type": "markdown",
      "metadata": {
        "id": "view-in-github",
        "colab_type": "text"
      },
      "source": [
        "<a href=\"https://colab.research.google.com/github/ishant2612/DSA_Training/blob/main/DSA_Training.ipynb\" target=\"_parent\"><img src=\"https://colab.research.google.com/assets/colab-badge.svg\" alt=\"Open In Colab\"/></a>"
      ]
    },
    {
      "cell_type": "code",
      "execution_count": null,
      "metadata": {
        "colab": {
          "base_uri": "https://localhost:8080/"
        },
        "id": "SE6Tz8H9lubO",
        "outputId": "90e7492e-be36-422a-ee59-f7e1cdab94c4"
      },
      "outputs": [
        {
          "output_type": "stream",
          "name": "stdout",
          "text": [
            "Enter the number you want to convert into binary: 3993\n",
            "The binary of 3993 is 111110011001\n"
          ]
        }
      ],
      "source": [
        "0#write the code to convert decimal into binary\n",
        "a =  int(input(\"Enter the number you want to convert into binary: \"))\n",
        "def deciToBinary(a):\n",
        "  if a == 0:\n",
        "    return str(a)\n",
        "  res = []\n",
        "  while a >= 1:\n",
        "      b = a%2\n",
        "      res.append(str(b))\n",
        "      a = a//2\n",
        "  return ''.join(res[-1::-1])\n",
        "\n",
        "\n",
        "print(f\"The binary of {a} is {deciToBinary(a)}\")"
      ]
    },
    {
      "cell_type": "code",
      "source": [
        "#wtite the code to convert binary into decimal\n",
        "def binaryToDecimal(a):\n",
        "  pow = 0\n",
        "  res = 0\n",
        "  for i in a[::-1]:\n",
        "    if i == '1':\n",
        "      res+= 2**pow\n",
        "    pow += 1\n",
        "\n",
        "  return res\n",
        "\n",
        "a = input(\"Enter the binary number you want to convert into decimal: \")\n",
        "print(f\"The decimal of {a} is {binaryToDecimal(a)}\")"
      ],
      "metadata": {
        "colab": {
          "base_uri": "https://localhost:8080/"
        },
        "id": "xi5C9PI0l7sS",
        "outputId": "16678091-fad5-467e-dbda-ca3b9a936e9e"
      },
      "execution_count": null,
      "outputs": [
        {
          "output_type": "stream",
          "name": "stdout",
          "text": [
            "Enter the binary number you want to convert into decimal: 01011\n",
            "The decimal of 01011 is 11\n"
          ]
        }
      ]
    },
    {
      "cell_type": "code",
      "source": [
        "def BinaryToDecimalUsingMultiply(a):\n",
        "  pow = 0\n",
        "  res = 0\n",
        "  a = a[::-1]\n",
        "  for i in a:\n",
        "    res += int(i)*2**pow\n",
        "    pow += 1\n",
        "  return res\n",
        "\n",
        "a = input(\"Enter the binary number you want to convert into decimal: \")\n",
        "print(f\"The decimal of {a} is {BinaryToDecimalUsingMultiply(a)}\")\n"
      ],
      "metadata": {
        "colab": {
          "base_uri": "https://localhost:8080/"
        },
        "id": "ZO4sSqKPsZzs",
        "outputId": "f27c3509-c3c8-471e-ed97-066a5dc527cf"
      },
      "execution_count": null,
      "outputs": [
        {
          "output_type": "stream",
          "name": "stdout",
          "text": [
            "Enter the binary number you want to convert into decimal: 1101111\n",
            "The decimal of 1101111 is 111\n"
          ]
        }
      ]
    },
    {
      "cell_type": "code",
      "source": [
        "#python script to convert decimal to octal\n",
        "\n",
        "def decimalToOctal(n):\n",
        "    res = []\n",
        "    while n > 0:\n",
        "        res.append(str(n % 8))\n",
        "        n = n // 8\n",
        "    return ''.join(res[::-1])\n",
        "\n",
        "\n",
        "\n",
        "dec_num = int(input(\"Enter a decimal number: \"))\n",
        "print(f\"The octal equivalent of {dec_num} is: {decimalToOctal(dec_num)}\")\n"
      ],
      "metadata": {
        "colab": {
          "base_uri": "https://localhost:8080/"
        },
        "id": "NXJEWcCduiis",
        "outputId": "0d7de9ee-bc88-489d-efcd-335693560731"
      },
      "execution_count": null,
      "outputs": [
        {
          "output_type": "stream",
          "name": "stdout",
          "text": [
            "Enter a decimal number: 716\n",
            "The octal equivalent of 716 is: 1314\n"
          ]
        }
      ]
    },
    {
      "cell_type": "code",
      "source": [
        "#python script to convert decimal to Hexadecimal\n",
        "\n",
        "def decimalToHexa(n):\n",
        "    dic = {10:\"A\",11:\"B\",12:\"C\",13:\"D\",14:\"E\",15:\"F\"}\n",
        "    res = []\n",
        "    while n > 0:\n",
        "        ans = (n % 16)\n",
        "        if ans >= 10:\n",
        "            ans = dic[ans]\n",
        "        res.append(str(ans))\n",
        "        n = n // 16\n",
        "    return ''.join(res[::-1])\n",
        "\n",
        "\n",
        "\n",
        "dec_num = int(input(\"Enter a decimal number: \"))\n",
        "print(f\"The hexadecimal equivalent of {dec_num} is: {decimalToHexa(dec_num)}\")"
      ],
      "metadata": {
        "colab": {
          "base_uri": "https://localhost:8080/"
        },
        "id": "y51HM1kCyuwH",
        "outputId": "60daf518-d9db-4583-8b50-2f4e6140f0e9"
      },
      "execution_count": 14,
      "outputs": [
        {
          "output_type": "stream",
          "name": "stdout",
          "text": [
            "Enter a decimal number: 123\n",
            "The hexadecimal equivalent of 123 is: 7B\n"
          ]
        }
      ]
    },
    {
      "cell_type": "code",
      "source": [
        "#python script to convert octal to decimal\n",
        "\n",
        "def octalToDecimal(a):\n",
        "  res = 0\n",
        "  pow = 0\n",
        "  a = a[::-1]\n",
        "  for i in a:\n",
        "    res += int(i)*8**pow\n",
        "    pow += 1\n",
        "  return res\n",
        "\n",
        "a = input(\"Enter the octal number you want to convert into decimal: \")\n",
        "print(f\"The decimal of {a} is {octalToDecimal(a)}\")"
      ],
      "metadata": {
        "colab": {
          "base_uri": "https://localhost:8080/"
        },
        "id": "KiKvdi050acx",
        "outputId": "18a934f2-26a6-4802-d5c5-8d5beba0f221"
      },
      "execution_count": null,
      "outputs": [
        {
          "output_type": "stream",
          "name": "stdout",
          "text": [
            "Enter the octal number you want to convert into decimal: 7631\n",
            "The decimal of 7631 is 3993\n"
          ]
        }
      ]
    },
    {
      "cell_type": "code",
      "source": [
        "#PYTHON SCRIPT TO CONVERT HEXADECIMAL TO DECIMAL\n",
        "\n",
        "def hexaToDecimal(a):\n",
        "  dic = {\"A\":10,\"B\":11,\"C\":12,\"D\":13,\"E\":14,\"F\":15}\n",
        "  res = 0\n",
        "  pow = 0\n",
        "  a = a[::-1]\n",
        "  for i in a:\n",
        "    if i.upper() in dic:\n",
        "      res += dic[i.upper()]*16**pow\n",
        "    else:\n",
        "      res += int(i)*16**pow\n",
        "    pow += 1\n",
        "  return res\n",
        "\n",
        "a = input(\"Enter the hexadecimal number you want to convert into decimal: \")\n",
        "print(f\"The decimal of {a} is {hexaToDecimal(a)}\")"
      ],
      "metadata": {
        "colab": {
          "base_uri": "https://localhost:8080/"
        },
        "id": "QXX6gg0S2Jf5",
        "outputId": "eb351ef8-3e64-46d2-98ee-981ea591bbba"
      },
      "execution_count": 18,
      "outputs": [
        {
          "output_type": "stream",
          "name": "stdout",
          "text": [
            "Enter the hexadecimal number you want to convert into decimal: 7b\n",
            "The decimal of 7b is 123\n"
          ]
        }
      ]
    },
    {
      "cell_type": "code",
      "source": [
        "#python script to convert hexdecimal to binary\n",
        "\n",
        "def hextobin(a):\n",
        "  res = \"\"\n",
        "  for i in a:\n",
        "    res += deciToBinary(int(i,16))\n",
        "  return res\n",
        "\n",
        "a = input(\"Enter the hexadecimal number you want to convert into binary: \")\n",
        "print(f\"The binary of {a} is {hextobin(a)}\")"
      ],
      "metadata": {
        "colab": {
          "base_uri": "https://localhost:8080/"
        },
        "id": "JseRVodu53p8",
        "outputId": "8d2150e8-6398-4107-d593-9282ebf04f14"
      },
      "execution_count": null,
      "outputs": [
        {
          "output_type": "stream",
          "name": "stdout",
          "text": [
            "Enter the hexadecimal number you want to convert into binary: 9DB5\n",
            "The binary of 9DB5 is 100111011011101\n"
          ]
        }
      ]
    },
    {
      "cell_type": "markdown",
      "source": [
        "# **Bitwise operation**"
      ],
      "metadata": {
        "id": "2nLqEhZYZo2U"
      }
    },
    {
      "cell_type": "code",
      "source": [
        "print(10<<3) #left shift , means shift the bit to left side\n",
        "print(32>>2)"
      ],
      "metadata": {
        "id": "kZeOOH3g-NoN",
        "colab": {
          "base_uri": "https://localhost:8080/"
        },
        "outputId": "38f46da2-016d-4b92-d8d4-c12510b8d899"
      },
      "execution_count": 12,
      "outputs": [
        {
          "output_type": "stream",
          "name": "stdout",
          "text": [
            "80\n",
            "8\n"
          ]
        }
      ]
    },
    {
      "cell_type": "code",
      "source": [
        "for _ in range(int(input())):\n",
        "  a = int(input(\"Enter the number to check: \"))\n",
        "  if (a & (a-1)) == 0:\n",
        "    print(\"YES\")\n",
        "  else:\n",
        "    print(\"NO\")"
      ],
      "metadata": {
        "colab": {
          "base_uri": "https://localhost:8080/"
        },
        "id": "JoRVSK-uZ_Fj",
        "outputId": "ba05a057-1ee0-45c4-e208-f5a98f2c2350"
      },
      "execution_count": 20,
      "outputs": [
        {
          "output_type": "stream",
          "name": "stdout",
          "text": [
            "1\n",
            "Enter the number to check: 1\n",
            "YES\n"
          ]
        }
      ]
    },
    {
      "cell_type": "code",
      "source": [
        "a = list(map(int,input().split(\" \")))\n",
        "if (a[0] >> a[-1])%2 != 0:\n",
        "  print(True)\n",
        "else:\n",
        "  print(False)"
      ],
      "metadata": {
        "colab": {
          "base_uri": "https://localhost:8080/"
        },
        "id": "SnNRLFQJv2DM",
        "outputId": "92c9a427-6897-4530-c58c-89021f17dc24"
      },
      "execution_count": 24,
      "outputs": [
        {
          "output_type": "stream",
          "name": "stdout",
          "text": [
            "24 1\n",
            "False\n"
          ]
        }
      ]
    },
    {
      "cell_type": "code",
      "source": [],
      "metadata": {
        "id": "kUQBsu4D1bu4"
      },
      "execution_count": 23,
      "outputs": []
    }
  ]
}