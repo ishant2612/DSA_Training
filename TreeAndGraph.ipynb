{
  "nbformat": 4,
  "nbformat_minor": 0,
  "metadata": {
    "colab": {
      "provenance": [],
      "authorship_tag": "ABX9TyPlqHiEy7IjjpyHSSA/rohg",
      "include_colab_link": true
    },
    "kernelspec": {
      "name": "python3",
      "display_name": "Python 3"
    },
    "language_info": {
      "name": "python"
    }
  },
  "cells": [
    {
      "cell_type": "markdown",
      "metadata": {
        "id": "view-in-github",
        "colab_type": "text"
      },
      "source": [
        "<a href=\"https://colab.research.google.com/github/ishant2612/DSA_Training/blob/main/TreeAndGraph.ipynb\" target=\"_parent\"><img src=\"https://colab.research.google.com/assets/colab-badge.svg\" alt=\"Open In Colab\"/></a>"
      ]
    },
    {
      "cell_type": "code",
      "execution_count": null,
      "metadata": {
        "colab": {
          "base_uri": "https://localhost:8080/"
        },
        "id": "nuVtw2-a-jkD",
        "outputId": "b4015f03-4503-4412-9f1d-8071b1a9ca2e"
      },
      "outputs": [
        {
          "output_type": "stream",
          "name": "stdout",
          "text": [
            "Inorder traversal:\n",
            "25 30 37 45 47 50 65 90 100 \n",
            "Preorder traversal\n",
            "50 45 30 25 37 47 100 65 90 \n",
            "Postorder traversal\n",
            "25 37 30 47 45 90 65 100 50 "
          ]
        }
      ],
      "source": [
        "class Node:\n",
        "  def __init__(self, data):\n",
        "    self.data = data\n",
        "    self.left = None\n",
        "    self.right = None\n",
        "\n",
        "def inorder_traversal(root):\n",
        "  if root:\n",
        "    inorder_traversal(root.left)\n",
        "    print(root.data, end=\" \")\n",
        "    inorder_traversal(root.right)\n",
        "\n",
        "def preorder_traversal(root):\n",
        "  if root:\n",
        "    print(root.data, end = ' ')\n",
        "    preorder_traversal(root.left)\n",
        "    preorder_traversal(root.right)\n",
        "\n",
        "def postorder_traversal(root):\n",
        "  if root:\n",
        "    postorder_traversal(root.left)\n",
        "    postorder_traversal(root.right)\n",
        "    print(root.data, end = \" \")\n",
        "\n",
        "root = Node(50)\n",
        "root.left = Node(45)\n",
        "root.right = Node(100)\n",
        "root.left.left = Node(30)\n",
        "root.left.right = Node(47)\n",
        "root.right.left = Node(65)\n",
        "root.right.left.right = Node(90)\n",
        "root.left.left.left = Node(25)\n",
        "root.left.left.right = Node(37)\n",
        "\n",
        "print(\"Inorder traversal:\")\n",
        "inorder_traversal(root)\n",
        "print()\n",
        "print(\"Preorder traversal\")\n",
        "preorder_traversal(root)\n",
        "print()\n",
        "print(\"Postorder traversal\")\n",
        "postorder_traversal(root)"
      ]
    },
    {
      "cell_type": "code",
      "source": [
        "class node:\n",
        "  def __init__(self,data):\n",
        "    self.data = data\n",
        "    self.left = None\n",
        "    self.right = None\n",
        "\n",
        "def dfs(val,root):\n",
        "  if root:\n",
        "    if root.data == val:\n",
        "      return True\n",
        "    if dfs(val,root.left):\n",
        "      return True\n",
        "    if dfs(val,root.right):\n",
        "      return True\n",
        "  return False\n",
        "\n",
        "\n",
        "\n",
        "\n",
        "root = Node(20)\n",
        "root.left = Node(25)\n",
        "root.right = Node(30)\n",
        "root.left.left = Node(15)\n",
        "root.left.right = Node(7)\n",
        "root.right.left = Node(5)\n",
        "root.right.right = Node(8)\n",
        "\n",
        "dfs(10,root)\n"
      ],
      "metadata": {
        "colab": {
          "base_uri": "https://localhost:8080/"
        },
        "id": "DEmpw-37DNHT",
        "outputId": "37289f2d-5cbd-41c7-b806-aa64b2f06667"
      },
      "execution_count": null,
      "outputs": [
        {
          "output_type": "stream",
          "name": "stdout",
          "text": [
            "<__main__.Node object at 0x78b144a6ae90>\n"
          ]
        },
        {
          "output_type": "execute_result",
          "data": {
            "text/plain": [
              "False"
            ]
          },
          "metadata": {},
          "execution_count": 38
        }
      ]
    },
    {
      "cell_type": "code",
      "source": [
        "import graphviz\n",
        "from graphviz import Digraph\n",
        "class node:\n",
        "  def __init__(self,data):\n",
        "    self.data = data\n",
        "    self.left = None\n",
        "    self.right = None\n",
        "\n",
        "\n",
        "  def binary_tree(self,root,data):\n",
        "    if not root:\n",
        "      return node(data)\n",
        "    else:\n",
        "      if data < root.data:\n",
        "        if not root.left:\n",
        "          root.left = node(data)\n",
        "        else:\n",
        "          self.binary_tree(root.left,data)\n",
        "      elif data > root.data:\n",
        "        if not root.right:\n",
        "          root.right = node(data)\n",
        "        else:\n",
        "          self.binary_tree(root.right,data)\n",
        "    return root\n",
        "\n",
        "\n",
        "  def dfs(self,val,root):\n",
        "    if root:\n",
        "      if root.data == val:\n",
        "        return True\n",
        "      if self.dfs(val,root.left):\n",
        "        return True\n",
        "      if self.dfs(val,root.right):\n",
        "        return True\n",
        "    return False\n",
        "\n",
        "  def in_small(self,root):\n",
        "    if not root:\n",
        "      return None\n",
        "    curr = root\n",
        "    while curr.left is not None:\n",
        "      curr = curr.left\n",
        "    return curr.data\n",
        "\n",
        "  def in_large(self,root):\n",
        "    if not root:\n",
        "      return None\n",
        "    curr = root\n",
        "    while curr.right is not None:\n",
        "      curr = curr.right\n",
        "    return curr.data\n",
        "\n",
        "\n",
        "  def height(self,root):\n",
        "    if not root:\n",
        "      return 0\n",
        "    return 1 + max(self.height(root.left),self.height(root.right))\n",
        "val = int(input(\"Enter root node: \"))\n",
        "bino = node(val)\n",
        "\n",
        "while True:\n",
        "  val = input(\"Enter the other node value: \")\n",
        "  if val == \"search\":\n",
        "    num = int(input(\"Enter the value to search: \"))\n",
        "    bino.dfs(num,bino)\n",
        "  elif int(val) == 0:\n",
        "    break\n",
        "  elif val.isnumeric():\n",
        "    bino.binary_tree(bino,int(val))\n",
        "\n",
        "\n",
        "\n",
        "print(\"Small element of tree is\", bino.in_small(bino))\n",
        "\n",
        "print(\"Large element of tree is\",bino.in_large(bino) )\n",
        "bino.height(bino)"
      ],
      "metadata": {
        "colab": {
          "base_uri": "https://localhost:8080/"
        },
        "id": "aGP0ww8aJN9A",
        "outputId": "7282e899-ff38-4083-cfd5-908da8e235d7"
      },
      "execution_count": 1,
      "outputs": [
        {
          "output_type": "stream",
          "name": "stdout",
          "text": [
            "Enter root node: 1\n",
            "Enter the other node value: 2\n",
            "Enter the other node value: 3\n",
            "Enter the other node value: 4\n",
            "Enter the other node value: 5\n",
            "Enter the other node value: 6\n",
            "Enter the other node value: 7\n",
            "Enter the other node value: 0\n",
            "Small element of tree is 1\n",
            "Large element of tree is 7\n"
          ]
        },
        {
          "output_type": "execute_result",
          "data": {
            "text/plain": [
              "7"
            ]
          },
          "metadata": {},
          "execution_count": 1
        }
      ]
    },
    {
      "cell_type": "code",
      "source": [
        "bino.dfs(8,bino)"
      ],
      "metadata": {
        "colab": {
          "base_uri": "https://localhost:8080/"
        },
        "id": "YLkd8zkjStc_",
        "outputId": "8a5dae1d-c024-44b7-ef3d-39b3e7857c1f"
      },
      "execution_count": null,
      "outputs": [
        {
          "output_type": "execute_result",
          "data": {
            "text/plain": [
              "True"
            ]
          },
          "metadata": {},
          "execution_count": 66
        }
      ]
    },
    {
      "cell_type": "code",
      "source": [
        "class AVLNode:\n",
        "    def __init__(self, key):\n",
        "        self.key = key\n",
        "        self.left = None\n",
        "        self.right = None\n",
        "        self.height = 1\n",
        "\n",
        "class AVLTree:\n",
        "    def insert(self, root, key):\n",
        "        if not root:\n",
        "            return AVLNode(key)\n",
        "        elif key < root.key:\n",
        "            root.left = self.insert(root.left, key)\n",
        "        else:\n",
        "            root.right = self.insert(root.right, key)\n",
        "\n",
        "        root.height = 1 + max(self.get_height(root.left), self.get_height(root.right))\n",
        "\n",
        "        balance = self.get_balance(root)\n",
        "\n",
        "        if balance > 1 and key < root.left.key:\n",
        "            return self.right_rotate(root)\n",
        "        if balance < -1 and key > root.right.key:\n",
        "            return self.left_rotate(root)\n",
        "        if balance > 1 and key > root.left.key:\n",
        "            root.left = self.left_rotate(root.left)\n",
        "            return self.right_rotate(root)\n",
        "        if balance < -1 and key < root.right.key:\n",
        "            root.right = self.right_rotate(root.right)\n",
        "            return self.left_rotate(root)\n",
        "        return root\n",
        "    def delete(self, root, key):\n",
        "        if not root:\n",
        "            return root\n",
        "        elif key < root.key:\n",
        "            root.left = self.delete(root.left, key)\n",
        "        elif key > root.key:\n",
        "            root.right = self.delete(root.right, key)\n",
        "        else:\n",
        "            if root.left is None:\n",
        "                temp = root.right\n",
        "                root = None\n",
        "                return temp\n",
        "            elif root.right is None:\n",
        "                temp = root.left\n",
        "                root = None\n",
        "                return temp\n",
        "            temp = self.get_min_value_node(root.right)\n",
        "            root.key = temp.key\n",
        "            root.right = self.delete(root.right, temp.key)\n",
        "        if root is None:\n",
        "            return root\n",
        "\n",
        "        root.height = 1 + max(self.get_height(root.left), self.get_height(root.right))\n",
        "        balance = self.get_balance(root)\n",
        "        if balance > 1 and self.get_balance(root.left) >= 0:\n",
        "            return self.right_rotate(root)\n",
        "        if balance > 1 and self.get_balance(root.left) < 0:\n",
        "            root.left = self.left_rotate(root.left)\n",
        "            return self.right_rotate(root)\n",
        "        if balance < -1 and self.get_balance(root.right) <= 0:\n",
        "            return self.left_rotate(root)\n",
        "        if balance < -1 and self.get_balance(root.right) > 0:\n",
        "            root.right = self.right_rotate(root.right)\n",
        "            return self.left_rotate(root)\n",
        "\n",
        "        return root\n",
        "\n",
        "    def left_rotate(self, z):\n",
        "        y = z.right\n",
        "        T2 = y.left\n",
        "        y.left = z\n",
        "        z.right = T2\n",
        "        z.height = 1 + max(self.get_height(z.left), self.get_height(z.right))\n",
        "        y.height = 1 + max(self.get_height(y.left), self.get_height(y.right))\n",
        "        return y\n",
        "\n",
        "    def right_rotate(self, z):\n",
        "        y = z.left\n",
        "        T3 = y.right\n",
        "        y.right = z\n",
        "        z.left = T3\n",
        "        z.height = 1 + max(self.get_height(z.left), self.get_height(z.right))\n",
        "        y.height = 1 + max(self.get_height(y.left), self.get_height(y.right))\n",
        "        return y\n",
        "\n",
        "    def get_height(self, root):\n",
        "        if not root:\n",
        "            return 0\n",
        "        return root.height\n",
        "\n",
        "    def get_balance(self, root):\n",
        "        if not root:\n",
        "            return 0\n",
        "        return self.get_height(root.left) - self.get_height(root.right)\n",
        "\n",
        "    def get_min_value_node(self, root):\n",
        "        if root is None or root.left is None:\n",
        "            return root\n",
        "        return self.get_min_value_node(root.left)\n",
        "\n",
        "    def pre_order(self, root):\n",
        "        if not root:\n",
        "            return\n",
        "        print(\"{0} \".format(root.key), end=\"\")\n",
        "        self.pre_order(root.left)\n",
        "        self.pre_order(root.right)\n",
        "\n",
        "# Example Usage\n",
        "avl_tree = AVLTree()\n",
        "root = None\n",
        "\n",
        "print(\"Enter nodes to insert into the AVL tree (enter 0 to stop):\")\n",
        "while True:\n",
        "    node = int(input(\"Enter node value: \"))\n",
        "    if node == 0:\n",
        "        break\n",
        "    root = avl_tree.insert(root, node)\n",
        "\n",
        "print(\"Pre-order traversal after insertion:\")\n",
        "avl_tree.pre_order(root)\n",
        "print()\n",
        "\n",
        "while True:\n",
        "    choice = input(\"Do you want to delete a node? (yes/no): \").strip().lower()\n",
        "    if choice == 'yes':\n",
        "        node_to_delete = int(input(\"Enter node value to delete: \"))\n",
        "        root = avl_tree.delete(root, node_to_delete)\n",
        "        print(\"Pre-order traversal after deletion:\")\n",
        "        avl_tree.pre_order(root)\n",
        "        print()\n",
        "    else:\n",
        "        break\n"
      ],
      "metadata": {
        "id": "_koyGkb2a5qN",
        "colab": {
          "base_uri": "https://localhost:8080/"
        },
        "outputId": "7e3ba4e2-938e-495b-e70a-3af82aae8ac0"
      },
      "execution_count": 2,
      "outputs": [
        {
          "name": "stdout",
          "output_type": "stream",
          "text": [
            "Enter nodes to insert into the AVL tree (enter 0 to stop):\n",
            "Enter node value: 1\n",
            "Enter node value: 10000\n",
            "Enter node value: 50\n",
            "Enter node value: 234\n",
            "Enter node value: 47\n",
            "Enter node value: 456\n",
            "Enter node value: 0\n",
            "Pre-order traversal after insertion:\n",
            "50 1 47 456 234 10000 \n",
            "Do you want to delete a node? (yes/no): yes\n",
            "Enter node value to delete: 50\n",
            "Pre-order traversal after deletion:\n",
            "234 1 47 456 10000 \n",
            "Do you want to delete a node? (yes/no): no\n"
          ]
        }
      ]
    },
    {
      "cell_type": "code",
      "source": [],
      "metadata": {
        "id": "VXaq1ElODBnq"
      },
      "execution_count": null,
      "outputs": []
    }
  ]
}