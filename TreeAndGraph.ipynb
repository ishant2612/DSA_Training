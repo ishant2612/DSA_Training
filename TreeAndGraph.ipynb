{
  "nbformat": 4,
  "nbformat_minor": 0,
  "metadata": {
    "colab": {
      "provenance": [],
      "authorship_tag": "ABX9TyNoKVXOC0bvxE6paKcjBlcI",
      "include_colab_link": true
    },
    "kernelspec": {
      "name": "python3",
      "display_name": "Python 3"
    },
    "language_info": {
      "name": "python"
    }
  },
  "cells": [
    {
      "cell_type": "markdown",
      "metadata": {
        "id": "view-in-github",
        "colab_type": "text"
      },
      "source": [
        "<a href=\"https://colab.research.google.com/github/ishant2612/DSA_Training/blob/main/TreeAndGraph.ipynb\" target=\"_parent\"><img src=\"https://colab.research.google.com/assets/colab-badge.svg\" alt=\"Open In Colab\"/></a>"
      ]
    },
    {
      "cell_type": "code",
      "execution_count": 37,
      "metadata": {
        "colab": {
          "base_uri": "https://localhost:8080/"
        },
        "id": "nuVtw2-a-jkD",
        "outputId": "b4015f03-4503-4412-9f1d-8071b1a9ca2e"
      },
      "outputs": [
        {
          "output_type": "stream",
          "name": "stdout",
          "text": [
            "Inorder traversal:\n",
            "25 30 37 45 47 50 65 90 100 \n",
            "Preorder traversal\n",
            "50 45 30 25 37 47 100 65 90 \n",
            "Postorder traversal\n",
            "25 37 30 47 45 90 65 100 50 "
          ]
        }
      ],
      "source": [
        "class Node:\n",
        "  def __init__(self, data):\n",
        "    self.data = data\n",
        "    self.left = None\n",
        "    self.right = None\n",
        "\n",
        "def inorder_traversal(root):\n",
        "  if root:\n",
        "    inorder_traversal(root.left)\n",
        "    print(root.data, end=\" \")\n",
        "    inorder_traversal(root.right)\n",
        "\n",
        "def preorder_traversal(root):\n",
        "  if root:\n",
        "    print(root.data, end = ' ')\n",
        "    preorder_traversal(root.left)\n",
        "    preorder_traversal(root.right)\n",
        "\n",
        "def postorder_traversal(root):\n",
        "  if root:\n",
        "    postorder_traversal(root.left)\n",
        "    postorder_traversal(root.right)\n",
        "    print(root.data, end = \" \")\n",
        "\n",
        "root = Node(50)\n",
        "root.left = Node(45)\n",
        "root.right = Node(100)\n",
        "root.left.left = Node(30)\n",
        "root.left.right = Node(47)\n",
        "root.right.left = Node(65)\n",
        "root.right.left.right = Node(90)\n",
        "root.left.left.left = Node(25)\n",
        "root.left.left.right = Node(37)\n",
        "\n",
        "print(\"Inorder traversal:\")\n",
        "inorder_traversal(root)\n",
        "print()\n",
        "print(\"Preorder traversal\")\n",
        "preorder_traversal(root)\n",
        "print()\n",
        "print(\"Postorder traversal\")\n",
        "postorder_traversal(root)"
      ]
    },
    {
      "cell_type": "code",
      "source": [
        "class node:\n",
        "  def __init__(self,data):\n",
        "    self.data = data\n",
        "    self.left = None\n",
        "    self.right = None\n",
        "\n",
        "def dfs(val,root):\n",
        "  if root:\n",
        "    if root.data == val:\n",
        "      return True\n",
        "    if dfs(val,root.left):\n",
        "      return True\n",
        "    if dfs(val,root.right):\n",
        "      return True\n",
        "  return False\n",
        "\n",
        "\n",
        "\n",
        "\n",
        "root = Node(20)\n",
        "root.left = Node(25)\n",
        "root.right = Node(30)\n",
        "root.left.left = Node(15)\n",
        "root.left.right = Node(7)\n",
        "root.right.left = Node(5)\n",
        "root.right.right = Node(8)\n",
        "\n",
        "dfs(10,root)\n"
      ],
      "metadata": {
        "colab": {
          "base_uri": "https://localhost:8080/"
        },
        "id": "DEmpw-37DNHT",
        "outputId": "37289f2d-5cbd-41c7-b806-aa64b2f06667"
      },
      "execution_count": 38,
      "outputs": [
        {
          "output_type": "stream",
          "name": "stdout",
          "text": [
            "<__main__.Node object at 0x78b144a6ae90>\n"
          ]
        },
        {
          "output_type": "execute_result",
          "data": {
            "text/plain": [
              "False"
            ]
          },
          "metadata": {},
          "execution_count": 38
        }
      ]
    },
    {
      "cell_type": "code",
      "source": [
        "class node:\n",
        "  def __init__(self,data):\n",
        "    self.data = data\n",
        "    self.left = None\n",
        "    self.right = None\n",
        "\n",
        "\n",
        "  def binary_tree(self,root,data):\n",
        "    if not root:\n",
        "      return node(data)\n",
        "    else:\n",
        "      if data < root.data:\n",
        "        if not root.left:\n",
        "          root.left = node(data)\n",
        "        else:\n",
        "          self.binary_tree(root.left,data)\n",
        "      elif data > root.data:\n",
        "        if not root.right:\n",
        "          root.right = node(data)\n",
        "        else:\n",
        "          self.binary_tree(root.right,data)\n",
        "    return root\n",
        "val = int(input(\"Enter root node: \"))\n",
        "bino = node(val)\n",
        "\n",
        "while True:\n",
        "  val = int(input())\n",
        "  if val == 0:\n",
        "    break\n",
        "  bino.binary_tree(bino,val)\n",
        "\n",
        "print(\"Inorder\", end = \" \")\n",
        "inorder_traversal(bino)\n",
        "print()\n",
        "print(\"preorder\", end = \" \")\n",
        "preorder_traversal(bino)\n",
        "print()\n",
        "print(\"postorder\", end = ' ')\n",
        "postorder_traversal(bino)\n",
        "\n"
      ],
      "metadata": {
        "colab": {
          "base_uri": "https://localhost:8080/"
        },
        "id": "aGP0ww8aJN9A",
        "outputId": "cabffb38-b3f9-4e5a-aa03-2a7cfc52ebb0"
      },
      "execution_count": 47,
      "outputs": [
        {
          "output_type": "stream",
          "name": "stdout",
          "text": [
            "Enter root node: 50\n",
            "45\n",
            "100\n",
            "30\n",
            "45\n",
            "65\n",
            "25\n",
            "37\n",
            "90\n",
            "0\n",
            "Inorder 25 30 37 45 50 65 90 100 \n",
            "preorder 50 45 30 25 37 100 65 90 \n",
            "postorder 25 37 30 45 90 65 100 50 "
          ]
        }
      ]
    },
    {
      "cell_type": "code",
      "source": [],
      "metadata": {
        "id": "YLkd8zkjStc_"
      },
      "execution_count": null,
      "outputs": []
    }
  ]
}