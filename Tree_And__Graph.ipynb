{
  "nbformat": 4,
  "nbformat_minor": 0,
  "metadata": {
    "colab": {
      "provenance": [],
      "authorship_tag": "ABX9TyP+6rUt8isZ9YdetVR8WVSK",
      "include_colab_link": true
    },
    "kernelspec": {
      "name": "python3",
      "display_name": "Python 3"
    },
    "language_info": {
      "name": "python"
    }
  },
  "cells": [
    {
      "cell_type": "markdown",
      "metadata": {
        "id": "view-in-github",
        "colab_type": "text"
      },
      "source": [
        "<a href=\"https://colab.research.google.com/github/ishant2612/DSA_Training/blob/main/Tree_And__Graph.ipynb\" target=\"_parent\"><img src=\"https://colab.research.google.com/assets/colab-badge.svg\" alt=\"Open In Colab\"/></a>"
      ]
    },
    {
      "cell_type": "code",
      "execution_count": 15,
      "metadata": {
        "colab": {
          "base_uri": "https://localhost:8080/"
        },
        "id": "LvGIiHnDnWcg",
        "outputId": "73d165da-f5cd-4a60-fdea-15bf8835e685"
      },
      "outputs": [
        {
          "name": "stdout",
          "output_type": "stream",
          "text": [
            "1. Insert\n",
            "2. Delete\n",
            "3. Display\n",
            "4. Exit\n",
            "Enter your choice: 1\n",
            "Enter the number to be inserted: 1\n",
            "Enter your choice: 1\n",
            "Enter the number to be inserted: 2\n",
            "Enter your choice: 1\n",
            "Enter the number to be inserted: 3\n",
            "Enter your choice: 1\n",
            "Enter the number to be inserted: 4\n",
            "Enter your choice: 3\n",
            "4 3 2 1\n",
            "Enter your choice: 2\n",
            "Enter the number to be deleted: 3\n",
            "Enter your choice: 3\n",
            "4 1 2\n",
            "Enter your choice: 1\n",
            "Enter the number to be inserted: 8\n",
            "Enter your choice: 1\n",
            "Enter the number to be inserted: 9\n",
            "Enter your choice: 1\n",
            "Enter the number to be inserted: 10\n",
            "Enter your choice: 3\n",
            "10 8 9 1 4 2\n",
            "Enter your choice: 2\n",
            "Enter the number to be deleted: 2\n",
            "Enter your choice: 3\n",
            "10 8 9 1 4\n",
            "Enter your choice: 4\n"
          ]
        }
      ],
      "source": [
        "def heapify(lst,i):\n",
        "  n = len(lst)\n",
        "  largest = i\n",
        "  left = 2*i + 1\n",
        "  right = 2*i + 2\n",
        "  if left < n and lst[i] < lst[left]:\n",
        "    largest = left\n",
        "  if right < n and lst[i] < lst[right]:\n",
        "    largest = right\n",
        "  if largest != i:\n",
        "    lst[i],lst[largest] = lst[largest],lst[i]\n",
        "    heapify(lst,largest)\n",
        "\n",
        "def insert(lst,num):\n",
        "  lst.append(num)\n",
        "  n = len(lst)\n",
        "  for i in range(n//2-1,-1,-1):\n",
        "    heapify(lst,i)\n",
        "\n",
        "def delete(lst, num):\n",
        "    found = False\n",
        "    for i in range(len(lst)):\n",
        "        if lst[i] == num:\n",
        "            idx = i\n",
        "            found = True\n",
        "            break\n",
        "\n",
        "    if not found:\n",
        "        print(f\"Element {num} not found in the heap.\")\n",
        "        return\n",
        "\n",
        "    # Swap with the last element and pop\n",
        "    lst[idx], lst[-1] = lst[-1], lst[idx]\n",
        "    lst.pop()\n",
        "\n",
        "    # Heapify starting from the swapped index\n",
        "    heapify(lst, idx)\n",
        "\n",
        "\n",
        "\n",
        "lst = []\n",
        "print(\"1. Insert\\n2. Delete\\n3. Display\\n4. Exit\")\n",
        "while True:\n",
        "  choice = int(input(\"Enter your choice: \"))\n",
        "  if choice == 1:\n",
        "    num = int(input(\"Enter the number to be inserted: \"))\n",
        "    insert(lst,num)\n",
        "  elif choice == 2:\n",
        "    numd = int(input(\"Enter the number to be deleted: \"))\n",
        "    delete(lst,numd)\n",
        "  elif choice == 3:\n",
        "    print(*lst)\n",
        "  elif choice == 4:\n",
        "    break\n",
        "  else:\n",
        "    print(\"Invalid choice\")\n",
        "\n",
        "\n"
      ]
    },
    {
      "cell_type": "code",
      "source": [
        "\n",
        "\n"
      ],
      "metadata": {
        "id": "r8CIztAK4poj"
      },
      "execution_count": 3,
      "outputs": []
    }
  ]
}